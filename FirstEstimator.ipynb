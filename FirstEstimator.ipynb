{
 "cells": [
  {
   "cell_type": "markdown",
   "metadata": {},
   "source": [
    "# Build first simple Tensorflow model"
   ]
  },
  {
   "cell_type": "markdown",
   "metadata": {},
   "source": [
    "In this demo notebook we will be going through the following steps when building our first Tensorflow model\n",
    "- Define the input features\n",
    "- Define an input function\n",
    "- Setup evaluation metric\n",
    "- Create a linear regressor\n",
    "- Run experiment\n",
    "- Evaluate the model"
   ]
  },
  {
   "cell_type": "code",
   "execution_count": 1,
   "metadata": {
    "collapsed": false
   },
   "outputs": [
    {
     "data": {
      "text/html": [
       "\n",
       "          <script src=\"/static/components/requirejs/require.js\"></script>\n",
       "          <script>\n",
       "            requirejs.config({\n",
       "              paths: {\n",
       "                base: '/static/base',\n",
       "              },\n",
       "            });\n",
       "          </script>\n",
       "          "
      ],
      "text/plain": [
       "<IPython.core.display.HTML object>"
      ]
     },
     "metadata": {},
     "output_type": "display_data"
    },
    {
     "name": "stdout",
     "output_type": "stream",
     "text": [
      "1.2.1\n"
     ]
    }
   ],
   "source": [
    "import tensorflow as tf\n",
    "import pandas as pd\n",
    "import shutil\n",
    "print(tf.__version__)"
   ]
  },
  {
   "cell_type": "code",
   "execution_count": 11,
   "metadata": {
    "collapsed": false
   },
   "outputs": [
    {
     "data": {
      "text/html": [
       "\n",
       "          <script src=\"/static/components/requirejs/require.js\"></script>\n",
       "          <script>\n",
       "            requirejs.config({\n",
       "              paths: {\n",
       "                base: '/static/base',\n",
       "              },\n",
       "            });\n",
       "          </script>\n",
       "          "
      ],
      "text/plain": [
       "<IPython.core.display.HTML object>"
      ]
     },
     "metadata": {},
     "output_type": "display_data"
    }
   ],
   "source": [
    "#First stup a train, validation and test data set\n",
    "train_data_file = '/content/datalab/data/train-data.csv'\n",
    "valid_data_file = '/content/datalab/data/valid-data.csv'\n",
    "test_data_file = '/content/datalab/data/test-data.csv'"
   ]
  },
  {
   "cell_type": "markdown",
   "metadata": {},
   "source": [
    "# Define Dataset Metadata"
   ]
  },
  {
   "cell_type": "markdown",
   "metadata": {},
   "source": [
    "In this part what we do:\n",
    "- Setup our metadata features for input\n",
    "- Setup metadata features for target"
   ]
  },
  {
   "cell_type": "code",
   "execution_count": 13,
   "metadata": {
    "collapsed": false
   },
   "outputs": [
    {
     "data": {
      "text/html": [
       "\n",
       "          <script src=\"/static/components/requirejs/require.js\"></script>\n",
       "          <script>\n",
       "            requirejs.config({\n",
       "              paths: {\n",
       "                base: '/static/base',\n",
       "              },\n",
       "            });\n",
       "          </script>\n",
       "          "
      ],
      "text/plain": [
       "<IPython.core.display.HTML object>"
      ]
     },
     "metadata": {},
     "output_type": "display_data"
    },
    {
     "name": "stdout",
     "output_type": "stream",
     "text": [
      "Numeric features: ['pickup_longitude', 'pickup_latitude', 'dropoff_longitude', 'dropoff_latitude', 'passenger_count']\n",
      "Categorical features: []\n",
      "Target: fare_amount\n",
      "Unused features: set(['pickup_dayofweek', 'pickup_hour', 'pickup_datetime'])\n"
     ]
    }
   ],
   "source": [
    "#Define header names\n",
    "HEADER = ['pickup_datetime',\n",
    "          'pickup_dayofweek',\n",
    "          'pickup_hour',\n",
    "          'pickup_longitude',\n",
    "          'pickup_latitude',\n",
    "          'dropoff_longitude',\n",
    "          'dropoff_latitude', \n",
    "          'passenger_count',\n",
    "          'fare_amount']\n",
    "\n",
    "#Setup default values for missing\n",
    "DEFAULTS = [['NULL'],['NULL'],[-1], [-74.0], [40.0], [-74.0], [40.7], [-1],[-.1]]\n",
    "\n",
    "NUMERIC_FEATURE_NAMES = ['pickup_longitude', \n",
    "                         'pickup_latitude',\n",
    "                         'dropoff_longitude', \n",
    "                         'dropoff_latitude', \n",
    "                         'passenger_count']\n",
    "\n",
    "CATEGORICAL_FEATURE_NAMES = []\n",
    "\n",
    "#Variable with all the feature names\n",
    "FEATURE_NAMES = NUMERIC_FEATURE_NAMES + CATEGORICAL_FEATURE_NAMES\n",
    "\n",
    "#Set Target\n",
    "TARGET_NAME = 'fare_amount'\n",
    "\n",
    "#Unused features\n",
    "UNUSED_FEATURE_NAMES = set(HEADER) - set(FEATURE_NAMES) - set([TARGET_NAME])\n",
    "\n",
    "#Print features + unused features\n",
    "print(\"Numeric features: {}\".format(NUMERIC_FEATURE_NAMES))\n",
    "print(\"Categorical features: {}\".format(CATEGORICAL_FEATURE_NAMES))\n",
    "print(\"Target: {}\".format(TARGET_NAME))\n",
    "print(\"Unused features: {}\".format(UNUSED_FEATURE_NAMES))"
   ]
  },
  {
   "cell_type": "markdown",
   "metadata": {},
   "source": [
    "# Define input features"
   ]
  },
  {
   "cell_type": "markdown",
   "metadata": {},
   "source": [
    "In this part what we do:\n",
    "- We use tf.feature_column.numeric_column to setup our feature columns \n",
    "- TF.feature_column is used for ingesting and representing features \n",
    "- Find more information: [here](https://www.tensorflow.org/api_docs/python/tf/feature_column)"
   ]
  },
  {
   "cell_type": "code",
   "execution_count": 14,
   "metadata": {
    "collapsed": false
   },
   "outputs": [
    {
     "data": {
      "text/html": [
       "\n",
       "          <script src=\"/static/components/requirejs/require.js\"></script>\n",
       "          <script>\n",
       "            requirejs.config({\n",
       "              paths: {\n",
       "                base: '/static/base',\n",
       "              },\n",
       "            });\n",
       "          </script>\n",
       "          "
      ],
      "text/plain": [
       "<IPython.core.display.HTML object>"
      ]
     },
     "metadata": {},
     "output_type": "display_data"
    },
    {
     "name": "stdout",
     "output_type": "stream",
     "text": [
      "[_NumericColumn(key='pickup_longitude', shape=(1,), default_value=None, dtype=tf.float32, normalizer_fn=None), _NumericColumn(key='pickup_latitude', shape=(1,), default_value=None, dtype=tf.float32, normalizer_fn=None), _NumericColumn(key='dropoff_longitude', shape=(1,), default_value=None, dtype=tf.float32, normalizer_fn=None), _NumericColumn(key='dropoff_latitude', shape=(1,), default_value=None, dtype=tf.float32, normalizer_fn=None), _NumericColumn(key='passenger_count', shape=(1,), default_value=None, dtype=tf.float32, normalizer_fn=None)]\n"
     ]
    }
   ],
   "source": [
    "#Create the input features using a tf.feature_column.numeric_column\n",
    "def create_feature_columns():\n",
    "\n",
    "    numeric_columns = list(map(lambda feature_name: tf.feature_column.numeric_column(feature_name, dtype=tf.float32),\n",
    "                               NUMERIC_FEATURE_NAMES))\n",
    "\n",
    "    feature_columns = numeric_columns\n",
    "    \n",
    "    return feature_columns\n",
    "\n",
    "# Test create_feature_columns()\n",
    "feature_columns = create_feature_columns() \n",
    "print(feature_columns)"
   ]
  },
  {
   "cell_type": "markdown",
   "metadata": {},
   "source": [
    "# Define a data input function"
   ]
  },
  {
   "cell_type": "markdown",
   "metadata": {},
   "source": [
    "In this part what we do:\n",
    "- Seting up an input function that will feed our data in to the model \n",
    "- We can feed a pandas dataframe in to our TF Estimator\n",
    "- Test if the pandas_input_fn works"
   ]
  },
  {
   "cell_type": "code",
   "execution_count": 15,
   "metadata": {
    "collapsed": false
   },
   "outputs": [
    {
     "data": {
      "text/html": [
       "\n",
       "          <script src=\"/static/components/requirejs/require.js\"></script>\n",
       "          <script>\n",
       "            requirejs.config({\n",
       "              paths: {\n",
       "                base: '/static/base',\n",
       "              },\n",
       "            });\n",
       "          </script>\n",
       "          "
      ],
      "text/plain": [
       "<IPython.core.display.HTML object>"
      ]
     },
     "metadata": {},
     "output_type": "display_data"
    },
    {
     "name": "stdout",
     "output_type": "stream",
     "text": [
      "['dropoff_longitude', 'passenger_count', 'pickup_latitude', 'dropoff_latitude', 'pickup_longitude']\n",
      "Tensor(\"Const_5:0\", shape=(8000,), dtype=float32)\n"
     ]
    }
   ],
   "source": [
    "#Setup input function\n",
    "def pandas_input_fn(data_frame):\n",
    "  \n",
    "  \n",
    "    continuous_features = {f: tf.constant(data_frame[f].values, dtype=tf.float32) for f in NUMERIC_FEATURE_NAMES}\n",
    "\n",
    "    features = continuous_features\n",
    " \n",
    "    target = tf.constant(data_frame[TARGET_NAME].values, dtype=tf.float32)\n",
    "\n",
    "    return features, target\n",
    "  \n",
    "# Test pandas_input_fn()\n",
    "df_train = pd.read_csv(train_data_file, header=None, names=HEADER)\n",
    "features,target = pandas_input_fn(df_train)\n",
    "feature_colum_names = list(features.keys())\n",
    "print(feature_colum_names)\n",
    "print(target)"
   ]
  },
  {
   "cell_type": "markdown",
   "metadata": {},
   "source": [
    "#  Define the evaluation metric"
   ]
  },
  {
   "cell_type": "markdown",
   "metadata": {},
   "source": [
    "In this part we do:\n",
    "- Setup RMSE as our evaluation metric using [tf.contrib.learn.MetricSpec](https://www.tensorflow.org/api_docs/python/tf/contrib/learn/MetricSpec)\n",
    "- Make sure we do that for our train, validate and test set"
   ]
  },
  {
   "cell_type": "code",
   "execution_count": 16,
   "metadata": {
    "collapsed": false
   },
   "outputs": [
    {
     "data": {
      "text/html": [
       "\n",
       "          <script src=\"/static/components/requirejs/require.js\"></script>\n",
       "          <script>\n",
       "            requirejs.config({\n",
       "              paths: {\n",
       "                base: '/static/base',\n",
       "              },\n",
       "            });\n",
       "          </script>\n",
       "          "
      ],
      "text/plain": [
       "<IPython.core.display.HTML object>"
      ]
     },
     "metadata": {},
     "output_type": "display_data"
    }
   ],
   "source": [
    "#setup our evaluation metric\n",
    "evaluation_metrics={\n",
    "    'rmse': tf.contrib.learn.MetricSpec(metric_fn=tf.metrics.root_mean_squared_error)\n",
    "    }\n",
    "\n",
    "def print_evaluation(estimator):\n",
    "    \n",
    "    tf.logging.set_verbosity(tf.logging.ERROR)\n",
    "    \n",
    "    train_metric = estimator.evaluate(input_fn = lambda: pandas_input_fn(df_train), \n",
    "                                        steps=1, \n",
    "                                        metrics = evaluation_metrics)\n",
    "\n",
    "    valid_metric = estimator.evaluate(input_fn = lambda: pandas_input_fn(df_valid), \n",
    "                                        steps=1, \n",
    "                                        metrics = evaluation_metrics)\n",
    "\n",
    "    test_metric = estimator.evaluate(input_fn = lambda: pandas_input_fn(df_test), \n",
    "                                       steps=1, \n",
    "                                       metrics = evaluation_metrics)\n",
    "\n",
    "    print(\"\")\n",
    "    print(\"train metric:{}\".format(train_metric))\n",
    "    print(\"valid metric:{}\".format(valid_metric))\n",
    "    print(\"test metric:{}\".format(test_metric))"
   ]
  },
  {
   "cell_type": "markdown",
   "metadata": {},
   "source": [
    "# Create a Linear Regression Estimator"
   ]
  },
  {
   "cell_type": "markdown",
   "metadata": {},
   "source": [
    "Now we're getting to the actual modelling part! Here we're:\n",
    "  - Initializing our tf.estimator model (Linear Regressor)\n",
    "  - Set our optimizer (Gradient Descent)\n",
    "  - Create experiment and run it"
   ]
  },
  {
   "cell_type": "code",
   "execution_count": 17,
   "metadata": {
    "collapsed": false
   },
   "outputs": [
    {
     "data": {
      "text/html": [
       "\n",
       "          <script src=\"/static/components/requirejs/require.js\"></script>\n",
       "          <script>\n",
       "            requirejs.config({\n",
       "              paths: {\n",
       "                base: '/static/base',\n",
       "              },\n",
       "            });\n",
       "          </script>\n",
       "          "
      ],
      "text/plain": [
       "<IPython.core.display.HTML object>"
      ]
     },
     "metadata": {},
     "output_type": "display_data"
    }
   ],
   "source": [
    "#Setup our experiment using a linear regressor. \n",
    "def experiment_linear_regression(run_config,hparams):\n",
    "   #We use a Gradient Descent Optimizer\n",
    "    optimizer = tf.train.GradientDescentOptimizer(learning_rate = hparams.learning_rate)\n",
    "  \n",
    "    estimator = tf.contrib.learn.LinearRegressor(\n",
    "        feature_columns=feature_columns,\n",
    "        optimizer = optimizer,\n",
    "        config=run_config)\n",
    "      \n",
    "    experiment =  tf.contrib.learn.Experiment(estimator=estimator, \n",
    "                                   train_steps = hparams.training_steps,\n",
    "                                   train_input_fn = lambda: pandas_input_fn(df_train), \n",
    "                                   eval_input_fn =lambda: pandas_input_fn(df_valid),\n",
    "                                   eval_metrics = evaluation_metrics\n",
    "                                  )\n",
    "    return experiment"
   ]
  },
  {
   "cell_type": "markdown",
   "metadata": {},
   "source": [
    "# Set params and run Linear Regression"
   ]
  },
  {
   "cell_type": "markdown",
   "metadata": {},
   "source": [
    "Now we can run our model! We need to do a few things here\n",
    "- Create Pandas data frames for train validation and test\n",
    "- Define our hyperparamaters\n",
    "- Clear our model directory\n",
    "- Set loggin\n",
    "- Run our experiment"
   ]
  },
  {
   "cell_type": "code",
   "execution_count": 19,
   "metadata": {
    "collapsed": false
   },
   "outputs": [
    {
     "data": {
      "text/html": [
       "\n",
       "          <script src=\"/static/components/requirejs/require.js\"></script>\n",
       "          <script>\n",
       "            requirejs.config({\n",
       "              paths: {\n",
       "                base: '/static/base',\n",
       "              },\n",
       "            });\n",
       "          </script>\n",
       "          "
      ],
      "text/plain": [
       "<IPython.core.display.HTML object>"
      ]
     },
     "metadata": {},
     "output_type": "display_data"
    },
    {
     "name": "stdout",
     "output_type": "stream",
     "text": [
      "WARNING:tensorflow:uid (from tensorflow.contrib.learn.python.learn.estimators.run_config) is experimental and may change or be removed at any time, and without warning.\n",
      "INFO:tensorflow:Using config: {'_model_dir': 'trained_models/linear_regression_model', '_save_checkpoints_secs': 600, '_num_ps_replicas': 0, '_keep_checkpoint_max': 5, '_tf_random_seed': None, '_task_type': None, '_environment': 'local', '_is_chief': True, '_cluster_spec': <tensorflow.python.training.server_lib.ClusterSpec object at 0x7f2cdfe792d0>, '_tf_config': gpu_options {\n",
      "  per_process_gpu_memory_fraction: 1.0\n",
      "}\n",
      ", '_num_worker_replicas': 0, '_task_id': 0, '_save_summary_steps': 100, '_save_checkpoints_steps': None, '_evaluation_master': '', '_keep_checkpoint_every_n_hours': 10000, '_master': '', '_session_config': None}\n",
      "WARNING:tensorflow:uid (from tensorflow.contrib.learn.python.learn.estimators.run_config) is experimental and may change or be removed at any time, and without warning.\n",
      "WARNING:tensorflow:From /usr/local/lib/python2.7/dist-packages/tensorflow/contrib/learn/python/learn/monitors.py:268: __init__ (from tensorflow.contrib.learn.python.learn.monitors) is deprecated and will be removed after 2016-12-05.\n",
      "Instructions for updating:\n",
      "Monitors are deprecated. Please use tf.train.SessionRunHook.\n",
      "WARNING:tensorflow:From /usr/local/lib/python2.7/dist-packages/tensorflow/contrib/learn/python/learn/estimators/head.py:625: scalar_summary (from tensorflow.python.ops.logging_ops) is deprecated and will be removed after 2016-11-30.\n",
      "Instructions for updating:\n",
      "Please switch to tf.summary.scalar. Note that tf.summary.scalar uses the node name instead of the tag. This means that TensorFlow will automatically de-duplicate summary names based on the scope they are created in. Also, passing a tensor or list of tags to a scalar summary op is no longer supported.\n",
      "INFO:tensorflow:Create CheckpointSaverHook.\n",
      "INFO:tensorflow:Saving checkpoints for 1 into trained_models/linear_regression_model/model.ckpt.\n",
      "INFO:tensorflow:loss = 282.164, step = 1\n",
      "WARNING:tensorflow:From /usr/local/lib/python2.7/dist-packages/tensorflow/contrib/learn/python/learn/estimators/head.py:625: scalar_summary (from tensorflow.python.ops.logging_ops) is deprecated and will be removed after 2016-11-30.\n",
      "Instructions for updating:\n",
      "Please switch to tf.summary.scalar. Note that tf.summary.scalar uses the node name instead of the tag. This means that TensorFlow will automatically de-duplicate summary names based on the scope they are created in. Also, passing a tensor or list of tags to a scalar summary op is no longer supported.\n",
      "INFO:tensorflow:Starting evaluation at 2017-12-15-14:45:14\n",
      "INFO:tensorflow:Restoring parameters from trained_models/linear_regression_model/model.ckpt-1\n",
      "INFO:tensorflow:Evaluation [1/100]\n",
      "INFO:tensorflow:Evaluation [2/100]\n",
      "INFO:tensorflow:Evaluation [3/100]\n",
      "INFO:tensorflow:Evaluation [4/100]\n",
      "INFO:tensorflow:Evaluation [5/100]\n",
      "INFO:tensorflow:Evaluation [6/100]\n",
      "INFO:tensorflow:Evaluation [7/100]\n",
      "INFO:tensorflow:Evaluation [8/100]\n",
      "INFO:tensorflow:Evaluation [9/100]\n",
      "INFO:tensorflow:Evaluation [10/100]\n",
      "INFO:tensorflow:Evaluation [11/100]\n",
      "INFO:tensorflow:Evaluation [12/100]\n",
      "INFO:tensorflow:Evaluation [13/100]\n",
      "INFO:tensorflow:Evaluation [14/100]\n",
      "INFO:tensorflow:Evaluation [15/100]\n",
      "INFO:tensorflow:Evaluation [16/100]\n",
      "INFO:tensorflow:Evaluation [17/100]\n",
      "INFO:tensorflow:Evaluation [18/100]\n",
      "INFO:tensorflow:Evaluation [19/100]\n",
      "INFO:tensorflow:Evaluation [20/100]\n",
      "INFO:tensorflow:Evaluation [21/100]\n",
      "INFO:tensorflow:Evaluation [22/100]\n",
      "INFO:tensorflow:Evaluation [23/100]\n",
      "INFO:tensorflow:Evaluation [24/100]\n",
      "INFO:tensorflow:Evaluation [25/100]\n",
      "INFO:tensorflow:Evaluation [26/100]\n",
      "INFO:tensorflow:Evaluation [27/100]\n",
      "INFO:tensorflow:Evaluation [28/100]\n",
      "INFO:tensorflow:Evaluation [29/100]\n",
      "INFO:tensorflow:Evaluation [30/100]\n",
      "INFO:tensorflow:Evaluation [31/100]\n",
      "INFO:tensorflow:Evaluation [32/100]\n",
      "INFO:tensorflow:Evaluation [33/100]\n",
      "INFO:tensorflow:Evaluation [34/100]\n",
      "INFO:tensorflow:Evaluation [35/100]\n",
      "INFO:tensorflow:Evaluation [36/100]\n",
      "INFO:tensorflow:Evaluation [37/100]\n",
      "INFO:tensorflow:Evaluation [38/100]\n",
      "INFO:tensorflow:Evaluation [39/100]\n",
      "INFO:tensorflow:Evaluation [40/100]\n",
      "INFO:tensorflow:Evaluation [41/100]\n",
      "INFO:tensorflow:Evaluation [42/100]\n",
      "INFO:tensorflow:Evaluation [43/100]\n",
      "INFO:tensorflow:Evaluation [44/100]\n",
      "INFO:tensorflow:Evaluation [45/100]\n",
      "INFO:tensorflow:Evaluation [46/100]\n",
      "INFO:tensorflow:Evaluation [47/100]\n",
      "INFO:tensorflow:Evaluation [48/100]\n",
      "INFO:tensorflow:Evaluation [49/100]\n",
      "INFO:tensorflow:Evaluation [50/100]\n",
      "INFO:tensorflow:Evaluation [51/100]\n",
      "INFO:tensorflow:Evaluation [52/100]\n",
      "INFO:tensorflow:Evaluation [53/100]\n",
      "INFO:tensorflow:Evaluation [54/100]\n",
      "INFO:tensorflow:Evaluation [55/100]\n",
      "INFO:tensorflow:Evaluation [56/100]\n",
      "INFO:tensorflow:Evaluation [57/100]\n",
      "INFO:tensorflow:Evaluation [58/100]\n",
      "INFO:tensorflow:Evaluation [59/100]\n",
      "INFO:tensorflow:Evaluation [60/100]\n",
      "INFO:tensorflow:Evaluation [61/100]\n",
      "INFO:tensorflow:Evaluation [62/100]\n",
      "INFO:tensorflow:Evaluation [63/100]\n",
      "INFO:tensorflow:Evaluation [64/100]\n",
      "INFO:tensorflow:Evaluation [65/100]\n",
      "INFO:tensorflow:Evaluation [66/100]\n",
      "INFO:tensorflow:Evaluation [67/100]\n",
      "INFO:tensorflow:Evaluation [68/100]\n",
      "INFO:tensorflow:Evaluation [69/100]\n",
      "INFO:tensorflow:Evaluation [70/100]\n",
      "INFO:tensorflow:Evaluation [71/100]\n",
      "INFO:tensorflow:Evaluation [72/100]\n",
      "INFO:tensorflow:Evaluation [73/100]\n",
      "INFO:tensorflow:Evaluation [74/100]\n",
      "INFO:tensorflow:Evaluation [75/100]\n",
      "INFO:tensorflow:Evaluation [76/100]\n",
      "INFO:tensorflow:Evaluation [77/100]\n",
      "INFO:tensorflow:Evaluation [78/100]\n",
      "INFO:tensorflow:Evaluation [79/100]\n",
      "INFO:tensorflow:Evaluation [80/100]\n",
      "INFO:tensorflow:Evaluation [81/100]\n",
      "INFO:tensorflow:Evaluation [82/100]\n",
      "INFO:tensorflow:Evaluation [83/100]\n",
      "INFO:tensorflow:Evaluation [84/100]\n",
      "INFO:tensorflow:Evaluation [85/100]\n",
      "INFO:tensorflow:Evaluation [86/100]\n",
      "INFO:tensorflow:Evaluation [87/100]\n",
      "INFO:tensorflow:Evaluation [88/100]\n",
      "INFO:tensorflow:Evaluation [89/100]\n",
      "INFO:tensorflow:Evaluation [90/100]\n",
      "INFO:tensorflow:Evaluation [91/100]\n",
      "INFO:tensorflow:Evaluation [92/100]\n",
      "INFO:tensorflow:Evaluation [93/100]\n",
      "INFO:tensorflow:Evaluation [94/100]\n",
      "INFO:tensorflow:Evaluation [95/100]\n",
      "INFO:tensorflow:Evaluation [96/100]\n",
      "INFO:tensorflow:Evaluation [97/100]\n",
      "INFO:tensorflow:Evaluation [98/100]\n",
      "INFO:tensorflow:Evaluation [99/100]\n",
      "INFO:tensorflow:Evaluation [100/100]\n",
      "INFO:tensorflow:Finished evaluation at 2017-12-15-14:45:14\n",
      "INFO:tensorflow:Saving dict for global step 1: global_step = 1, loss = 217.284, rmse = 14.7406\n",
      "INFO:tensorflow:Validation (step 1): loss = 217.284, global_step = 1, rmse = 14.7406\n",
      "INFO:tensorflow:global_step/sec: 106.997\n",
      "INFO:tensorflow:loss = 119.272, step = 101 (0.937 sec)\n",
      "INFO:tensorflow:global_step/sec: 378.079\n",
      "INFO:tensorflow:loss = 119.272, step = 201 (0.265 sec)\n",
      "INFO:tensorflow:global_step/sec: 465.38\n",
      "INFO:tensorflow:loss = 119.272, step = 301 (0.215 sec)\n",
      "INFO:tensorflow:global_step/sec: 476.988\n",
      "INFO:tensorflow:loss = 119.272, step = 401 (0.210 sec)\n",
      "INFO:tensorflow:global_step/sec: 437.48\n",
      "INFO:tensorflow:loss = 119.272, step = 501 (0.229 sec)\n",
      "INFO:tensorflow:global_step/sec: 377.538\n",
      "INFO:tensorflow:loss = 119.272, step = 601 (0.265 sec)\n",
      "INFO:tensorflow:global_step/sec: 296.862\n",
      "INFO:tensorflow:loss = 119.272, step = 701 (0.336 sec)\n",
      "INFO:tensorflow:global_step/sec: 466.044\n",
      "INFO:tensorflow:loss = 119.272, step = 801 (0.215 sec)\n",
      "INFO:tensorflow:global_step/sec: 472.525\n",
      "INFO:tensorflow:loss = 119.272, step = 901 (0.212 sec)\n",
      "INFO:tensorflow:global_step/sec: 402.923\n",
      "INFO:tensorflow:loss = 119.272, step = 1001 (0.248 sec)\n",
      "INFO:tensorflow:global_step/sec: 482.816\n",
      "INFO:tensorflow:loss = 119.272, step = 1101 (0.207 sec)\n",
      "INFO:tensorflow:global_step/sec: 476.583\n",
      "INFO:tensorflow:loss = 119.271, step = 1201 (0.210 sec)\n",
      "INFO:tensorflow:global_step/sec: 482.533\n",
      "INFO:tensorflow:loss = 119.271, step = 1301 (0.207 sec)\n",
      "INFO:tensorflow:global_step/sec: 480.169\n",
      "INFO:tensorflow:loss = 119.271, step = 1401 (0.209 sec)\n",
      "INFO:tensorflow:global_step/sec: 440.775\n",
      "INFO:tensorflow:loss = 119.271, step = 1501 (0.226 sec)\n",
      "INFO:tensorflow:global_step/sec: 483.405\n",
      "INFO:tensorflow:loss = 119.271, step = 1601 (0.207 sec)\n",
      "INFO:tensorflow:global_step/sec: 484.588\n",
      "INFO:tensorflow:loss = 119.271, step = 1701 (0.206 sec)\n",
      "INFO:tensorflow:global_step/sec: 483.458\n",
      "INFO:tensorflow:loss = 119.271, step = 1801 (0.207 sec)\n",
      "INFO:tensorflow:global_step/sec: 474.221\n",
      "INFO:tensorflow:loss = 119.271, step = 1901 (0.211 sec)\n",
      "INFO:tensorflow:global_step/sec: 445.038\n",
      "INFO:tensorflow:loss = 119.271, step = 2001 (0.225 sec)\n",
      "INFO:tensorflow:global_step/sec: 482.642\n",
      "INFO:tensorflow:loss = 119.271, step = 2101 (0.207 sec)\n",
      "INFO:tensorflow:global_step/sec: 480.123\n",
      "INFO:tensorflow:loss = 119.271, step = 2201 (0.208 sec)\n",
      "INFO:tensorflow:global_step/sec: 465.051\n",
      "INFO:tensorflow:loss = 119.271, step = 2301 (0.215 sec)\n",
      "INFO:tensorflow:global_step/sec: 453.124\n",
      "INFO:tensorflow:loss = 119.27, step = 2401 (0.221 sec)\n",
      "INFO:tensorflow:global_step/sec: 468.355\n",
      "INFO:tensorflow:loss = 119.27, step = 2501 (0.214 sec)\n",
      "INFO:tensorflow:global_step/sec: 458.922\n",
      "INFO:tensorflow:loss = 119.27, step = 2601 (0.217 sec)\n",
      "INFO:tensorflow:global_step/sec: 471.289\n",
      "INFO:tensorflow:loss = 119.27, step = 2701 (0.213 sec)\n",
      "INFO:tensorflow:global_step/sec: 468.441\n",
      "INFO:tensorflow:loss = 119.27, step = 2801 (0.213 sec)\n",
      "INFO:tensorflow:global_step/sec: 448.702\n",
      "INFO:tensorflow:loss = 119.27, step = 2901 (0.223 sec)\n",
      "INFO:tensorflow:global_step/sec: 455.875\n",
      "INFO:tensorflow:loss = 119.27, step = 3001 (0.219 sec)\n",
      "INFO:tensorflow:global_step/sec: 467.891\n",
      "INFO:tensorflow:loss = 119.27, step = 3101 (0.214 sec)\n",
      "INFO:tensorflow:global_step/sec: 471.595\n",
      "INFO:tensorflow:loss = 119.27, step = 3201 (0.212 sec)\n",
      "INFO:tensorflow:global_step/sec: 462.798\n",
      "INFO:tensorflow:loss = 119.27, step = 3301 (0.216 sec)\n",
      "INFO:tensorflow:global_step/sec: 451.267\n",
      "INFO:tensorflow:loss = 119.27, step = 3401 (0.222 sec)\n",
      "INFO:tensorflow:global_step/sec: 478.636\n",
      "INFO:tensorflow:loss = 119.27, step = 3501 (0.210 sec)\n",
      "INFO:tensorflow:global_step/sec: 472.066\n",
      "INFO:tensorflow:loss = 119.27, step = 3601 (0.211 sec)\n",
      "INFO:tensorflow:global_step/sec: 468.335\n",
      "INFO:tensorflow:loss = 119.27, step = 3701 (0.213 sec)\n",
      "INFO:tensorflow:global_step/sec: 424.053\n",
      "INFO:tensorflow:loss = 119.269, step = 3801 (0.237 sec)\n",
      "INFO:tensorflow:global_step/sec: 465.523\n",
      "INFO:tensorflow:loss = 119.269, step = 3901 (0.214 sec)\n",
      "INFO:tensorflow:global_step/sec: 481.819\n",
      "INFO:tensorflow:loss = 119.269, step = 4001 (0.208 sec)\n",
      "INFO:tensorflow:global_step/sec: 467.622\n",
      "INFO:tensorflow:loss = 119.269, step = 4101 (0.214 sec)\n",
      "INFO:tensorflow:global_step/sec: 458.358\n",
      "INFO:tensorflow:loss = 119.269, step = 4201 (0.218 sec)\n",
      "INFO:tensorflow:global_step/sec: 436.878\n",
      "INFO:tensorflow:loss = 119.269, step = 4301 (0.229 sec)\n",
      "INFO:tensorflow:global_step/sec: 444.261\n",
      "INFO:tensorflow:loss = 119.269, step = 4401 (0.225 sec)\n",
      "INFO:tensorflow:global_step/sec: 443.644\n",
      "INFO:tensorflow:loss = 119.269, step = 4501 (0.226 sec)\n",
      "INFO:tensorflow:global_step/sec: 465.045\n",
      "INFO:tensorflow:loss = 119.269, step = 4601 (0.215 sec)\n",
      "INFO:tensorflow:global_step/sec: 421.519\n",
      "INFO:tensorflow:loss = 119.269, step = 4701 (0.237 sec)\n",
      "INFO:tensorflow:global_step/sec: 476.179\n",
      "INFO:tensorflow:loss = 119.269, step = 4801 (0.210 sec)\n",
      "INFO:tensorflow:global_step/sec: 464.419\n",
      "INFO:tensorflow:loss = 119.269, step = 4901 (0.216 sec)\n",
      "INFO:tensorflow:global_step/sec: 467.506\n",
      "INFO:tensorflow:loss = 119.269, step = 5001 (0.213 sec)\n",
      "INFO:tensorflow:global_step/sec: 420.126\n",
      "INFO:tensorflow:loss = 119.268, step = 5101 (0.238 sec)\n",
      "INFO:tensorflow:global_step/sec: 428.732\n",
      "INFO:tensorflow:loss = 119.268, step = 5201 (0.234 sec)\n",
      "INFO:tensorflow:global_step/sec: 448.708\n",
      "INFO:tensorflow:loss = 119.268, step = 5301 (0.222 sec)\n",
      "INFO:tensorflow:global_step/sec: 467.227\n",
      "INFO:tensorflow:loss = 119.268, step = 5401 (0.214 sec)\n",
      "INFO:tensorflow:global_step/sec: 465.616\n",
      "INFO:tensorflow:loss = 119.268, step = 5501 (0.216 sec)\n",
      "INFO:tensorflow:global_step/sec: 423.132\n",
      "INFO:tensorflow:loss = 119.268, step = 5601 (0.235 sec)\n",
      "INFO:tensorflow:global_step/sec: 480.732\n",
      "INFO:tensorflow:loss = 119.268, step = 5701 (0.210 sec)\n",
      "INFO:tensorflow:global_step/sec: 450.544\n",
      "INFO:tensorflow:loss = 119.268, step = 5801 (0.220 sec)\n",
      "INFO:tensorflow:global_step/sec: 480.326\n",
      "INFO:tensorflow:loss = 119.268, step = 5901 (0.209 sec)\n",
      "INFO:tensorflow:global_step/sec: 474.753\n",
      "INFO:tensorflow:loss = 119.268, step = 6001 (0.210 sec)\n",
      "INFO:tensorflow:global_step/sec: 447.97\n",
      "INFO:tensorflow:loss = 119.268, step = 6101 (0.223 sec)\n",
      "INFO:tensorflow:global_step/sec: 451.07\n",
      "INFO:tensorflow:loss = 119.268, step = 6201 (0.223 sec)\n",
      "INFO:tensorflow:global_step/sec: 458.218\n",
      "INFO:tensorflow:loss = 119.268, step = 6301 (0.217 sec)\n",
      "INFO:tensorflow:global_step/sec: 475.885\n",
      "INFO:tensorflow:loss = 119.268, step = 6401 (0.211 sec)\n",
      "INFO:tensorflow:global_step/sec: 464.399\n",
      "INFO:tensorflow:loss = 119.267, step = 6501 (0.215 sec)\n",
      "INFO:tensorflow:global_step/sec: 448.473\n",
      "INFO:tensorflow:loss = 119.267, step = 6601 (0.223 sec)\n",
      "INFO:tensorflow:global_step/sec: 478.217\n",
      "INFO:tensorflow:loss = 119.267, step = 6701 (0.209 sec)\n",
      "INFO:tensorflow:global_step/sec: 482.896\n",
      "INFO:tensorflow:loss = 119.267, step = 6801 (0.207 sec)\n",
      "INFO:tensorflow:global_step/sec: 447.9\n",
      "INFO:tensorflow:loss = 119.267, step = 6901 (0.223 sec)\n",
      "INFO:tensorflow:global_step/sec: 433.191\n",
      "INFO:tensorflow:loss = 119.267, step = 7001 (0.231 sec)\n",
      "INFO:tensorflow:global_step/sec: 478.457\n",
      "INFO:tensorflow:loss = 119.267, step = 7101 (0.209 sec)\n",
      "INFO:tensorflow:global_step/sec: 467.963\n",
      "INFO:tensorflow:loss = 119.267, step = 7201 (0.214 sec)\n",
      "INFO:tensorflow:global_step/sec: 479.352\n",
      "INFO:tensorflow:loss = 119.267, step = 7301 (0.208 sec)\n",
      "INFO:tensorflow:global_step/sec: 480.411\n",
      "INFO:tensorflow:loss = 119.267, step = 7401 (0.209 sec)\n",
      "INFO:tensorflow:global_step/sec: 418.218\n",
      "INFO:tensorflow:loss = 119.267, step = 7501 (0.239 sec)\n",
      "INFO:tensorflow:global_step/sec: 468.127\n",
      "INFO:tensorflow:loss = 119.267, step = 7601 (0.213 sec)\n",
      "INFO:tensorflow:global_step/sec: 484.567\n",
      "INFO:tensorflow:loss = 119.267, step = 7701 (0.206 sec)\n",
      "INFO:tensorflow:global_step/sec: 469.312\n",
      "INFO:tensorflow:loss = 119.267, step = 7801 (0.213 sec)\n",
      "INFO:tensorflow:global_step/sec: 481.538\n",
      "INFO:tensorflow:loss = 119.267, step = 7901 (0.208 sec)\n",
      "INFO:tensorflow:global_step/sec: 456.294\n",
      "INFO:tensorflow:loss = 119.267, step = 8001 (0.220 sec)\n",
      "INFO:tensorflow:global_step/sec: 433.815\n",
      "INFO:tensorflow:loss = 119.266, step = 8101 (0.230 sec)\n",
      "INFO:tensorflow:global_step/sec: 463.364\n",
      "INFO:tensorflow:loss = 119.266, step = 8201 (0.216 sec)\n",
      "INFO:tensorflow:global_step/sec: 473.357\n",
      "INFO:tensorflow:loss = 119.266, step = 8301 (0.211 sec)\n",
      "INFO:tensorflow:global_step/sec: 444.573\n",
      "INFO:tensorflow:loss = 119.266, step = 8401 (0.225 sec)\n",
      "INFO:tensorflow:global_step/sec: 484.133\n",
      "INFO:tensorflow:loss = 119.266, step = 8501 (0.207 sec)\n",
      "INFO:tensorflow:global_step/sec: 483.482\n",
      "INFO:tensorflow:loss = 119.266, step = 8601 (0.206 sec)\n",
      "INFO:tensorflow:global_step/sec: 483.739\n",
      "INFO:tensorflow:loss = 119.266, step = 8701 (0.207 sec)\n",
      "INFO:tensorflow:global_step/sec: 470.465\n",
      "INFO:tensorflow:loss = 119.266, step = 8801 (0.213 sec)\n",
      "INFO:tensorflow:global_step/sec: 453.21\n",
      "INFO:tensorflow:loss = 119.266, step = 8901 (0.220 sec)\n",
      "INFO:tensorflow:global_step/sec: 490.11\n",
      "INFO:tensorflow:loss = 119.266, step = 9001 (0.204 sec)\n",
      "INFO:tensorflow:global_step/sec: 480.684\n",
      "INFO:tensorflow:loss = 119.266, step = 9101 (0.207 sec)\n",
      "INFO:tensorflow:global_step/sec: 461.917\n",
      "INFO:tensorflow:loss = 119.266, step = 9201 (0.218 sec)\n",
      "INFO:tensorflow:global_step/sec: 474.255\n",
      "INFO:tensorflow:loss = 119.266, step = 9301 (0.211 sec)\n",
      "INFO:tensorflow:global_step/sec: 425.156\n",
      "INFO:tensorflow:loss = 119.266, step = 9401 (0.235 sec)\n",
      "INFO:tensorflow:global_step/sec: 454.932\n",
      "INFO:tensorflow:loss = 119.266, step = 9501 (0.220 sec)\n",
      "INFO:tensorflow:global_step/sec: 473.077\n",
      "INFO:tensorflow:loss = 119.266, step = 9601 (0.211 sec)\n",
      "INFO:tensorflow:global_step/sec: 468.062\n",
      "INFO:tensorflow:loss = 119.266, step = 9701 (0.215 sec)\n",
      "INFO:tensorflow:global_step/sec: 430.361\n",
      "INFO:tensorflow:loss = 119.266, step = 9801 (0.231 sec)\n",
      "INFO:tensorflow:global_step/sec: 470.768\n",
      "INFO:tensorflow:loss = 119.265, step = 9901 (0.212 sec)\n",
      "INFO:tensorflow:Saving checkpoints for 10000 into trained_models/linear_regression_model/model.ckpt.\n",
      "INFO:tensorflow:Loss for final step: 119.265.\n",
      "WARNING:tensorflow:From /usr/local/lib/python2.7/dist-packages/tensorflow/contrib/learn/python/learn/estimators/head.py:625: scalar_summary (from tensorflow.python.ops.logging_ops) is deprecated and will be removed after 2016-11-30.\n",
      "Instructions for updating:\n",
      "Please switch to tf.summary.scalar. Note that tf.summary.scalar uses the node name instead of the tag. This means that TensorFlow will automatically de-duplicate summary names based on the scope they are created in. Also, passing a tensor or list of tags to a scalar summary op is no longer supported.\n",
      "INFO:tensorflow:Starting evaluation at 2017-12-15-14:45:36\n",
      "INFO:tensorflow:Restoring parameters from trained_models/linear_regression_model/model.ckpt-10000\n",
      "INFO:tensorflow:Evaluation [1/100]\n",
      "INFO:tensorflow:Evaluation [2/100]\n",
      "INFO:tensorflow:Evaluation [3/100]\n",
      "INFO:tensorflow:Evaluation [4/100]\n",
      "INFO:tensorflow:Evaluation [5/100]\n",
      "INFO:tensorflow:Evaluation [6/100]\n",
      "INFO:tensorflow:Evaluation [7/100]\n",
      "INFO:tensorflow:Evaluation [8/100]\n",
      "INFO:tensorflow:Evaluation [9/100]\n",
      "INFO:tensorflow:Evaluation [10/100]\n",
      "INFO:tensorflow:Evaluation [11/100]\n",
      "INFO:tensorflow:Evaluation [12/100]\n",
      "INFO:tensorflow:Evaluation [13/100]\n",
      "INFO:tensorflow:Evaluation [14/100]\n",
      "INFO:tensorflow:Evaluation [15/100]\n",
      "INFO:tensorflow:Evaluation [16/100]\n",
      "INFO:tensorflow:Evaluation [17/100]\n",
      "INFO:tensorflow:Evaluation [18/100]\n",
      "INFO:tensorflow:Evaluation [19/100]\n",
      "INFO:tensorflow:Evaluation [20/100]\n",
      "INFO:tensorflow:Evaluation [21/100]\n",
      "INFO:tensorflow:Evaluation [22/100]\n",
      "INFO:tensorflow:Evaluation [23/100]\n",
      "INFO:tensorflow:Evaluation [24/100]\n",
      "INFO:tensorflow:Evaluation [25/100]\n",
      "INFO:tensorflow:Evaluation [26/100]\n",
      "INFO:tensorflow:Evaluation [27/100]\n",
      "INFO:tensorflow:Evaluation [28/100]\n",
      "INFO:tensorflow:Evaluation [29/100]\n",
      "INFO:tensorflow:Evaluation [30/100]\n",
      "INFO:tensorflow:Evaluation [31/100]\n",
      "INFO:tensorflow:Evaluation [32/100]\n",
      "INFO:tensorflow:Evaluation [33/100]\n",
      "INFO:tensorflow:Evaluation [34/100]\n",
      "INFO:tensorflow:Evaluation [35/100]\n",
      "INFO:tensorflow:Evaluation [36/100]\n",
      "INFO:tensorflow:Evaluation [37/100]\n",
      "INFO:tensorflow:Evaluation [38/100]\n",
      "INFO:tensorflow:Evaluation [39/100]\n",
      "INFO:tensorflow:Evaluation [40/100]\n",
      "INFO:tensorflow:Evaluation [41/100]\n",
      "INFO:tensorflow:Evaluation [42/100]\n",
      "INFO:tensorflow:Evaluation [43/100]\n",
      "INFO:tensorflow:Evaluation [44/100]\n",
      "INFO:tensorflow:Evaluation [45/100]\n",
      "INFO:tensorflow:Evaluation [46/100]\n",
      "INFO:tensorflow:Evaluation [47/100]\n",
      "INFO:tensorflow:Evaluation [48/100]\n",
      "INFO:tensorflow:Evaluation [49/100]\n",
      "INFO:tensorflow:Evaluation [50/100]\n",
      "INFO:tensorflow:Evaluation [51/100]\n",
      "INFO:tensorflow:Evaluation [52/100]\n",
      "INFO:tensorflow:Evaluation [53/100]\n",
      "INFO:tensorflow:Evaluation [54/100]\n",
      "INFO:tensorflow:Evaluation [55/100]\n",
      "INFO:tensorflow:Evaluation [56/100]\n",
      "INFO:tensorflow:Evaluation [57/100]\n",
      "INFO:tensorflow:Evaluation [58/100]\n",
      "INFO:tensorflow:Evaluation [59/100]\n",
      "INFO:tensorflow:Evaluation [60/100]\n",
      "INFO:tensorflow:Evaluation [61/100]\n",
      "INFO:tensorflow:Evaluation [62/100]\n",
      "INFO:tensorflow:Evaluation [63/100]\n",
      "INFO:tensorflow:Evaluation [64/100]\n",
      "INFO:tensorflow:Evaluation [65/100]\n",
      "INFO:tensorflow:Evaluation [66/100]\n",
      "INFO:tensorflow:Evaluation [67/100]\n",
      "INFO:tensorflow:Evaluation [68/100]\n",
      "INFO:tensorflow:Evaluation [69/100]\n",
      "INFO:tensorflow:Evaluation [70/100]\n",
      "INFO:tensorflow:Evaluation [71/100]\n",
      "INFO:tensorflow:Evaluation [72/100]\n",
      "INFO:tensorflow:Evaluation [73/100]\n",
      "INFO:tensorflow:Evaluation [74/100]\n",
      "INFO:tensorflow:Evaluation [75/100]\n",
      "INFO:tensorflow:Evaluation [76/100]\n",
      "INFO:tensorflow:Evaluation [77/100]\n",
      "INFO:tensorflow:Evaluation [78/100]\n",
      "INFO:tensorflow:Evaluation [79/100]\n",
      "INFO:tensorflow:Evaluation [80/100]\n",
      "INFO:tensorflow:Evaluation [81/100]\n",
      "INFO:tensorflow:Evaluation [82/100]\n",
      "INFO:tensorflow:Evaluation [83/100]\n",
      "INFO:tensorflow:Evaluation [84/100]\n",
      "INFO:tensorflow:Evaluation [85/100]\n",
      "INFO:tensorflow:Evaluation [86/100]\n",
      "INFO:tensorflow:Evaluation [87/100]\n",
      "INFO:tensorflow:Evaluation [88/100]\n",
      "INFO:tensorflow:Evaluation [89/100]\n",
      "INFO:tensorflow:Evaluation [90/100]\n",
      "INFO:tensorflow:Evaluation [91/100]\n",
      "INFO:tensorflow:Evaluation [92/100]\n",
      "INFO:tensorflow:Evaluation [93/100]\n",
      "INFO:tensorflow:Evaluation [94/100]\n",
      "INFO:tensorflow:Evaluation [95/100]\n",
      "INFO:tensorflow:Evaluation [96/100]\n",
      "INFO:tensorflow:Evaluation [97/100]\n",
      "INFO:tensorflow:Evaluation [98/100]\n",
      "INFO:tensorflow:Evaluation [99/100]\n",
      "INFO:tensorflow:Evaluation [100/100]\n",
      "INFO:tensorflow:Finished evaluation at 2017-12-15-14:45:37\n",
      "INFO:tensorflow:Saving dict for global step 10000: global_step = 10000, loss = 128.648, rmse = 11.3423\n"
     ]
    },
    {
     "data": {
      "text/plain": [
       "({'global_step': 10000, 'loss': 128.6485, 'rmse': 11.34234}, [])"
      ]
     },
     "execution_count": 19,
     "metadata": {},
     "output_type": "execute_result"
    }
   ],
   "source": [
    "\n",
    "# Load dataset into dataframes\n",
    "df_train = pd.read_csv('/content/datalab/data/train-data.csv', header=None, names=HEADER)\n",
    "df_valid = pd.read_csv('/content/datalab/data/valid-data.csv', header=None, names=HEADER)\n",
    "df_test = pd.read_csv('/content/datalab/data/test-data.csv', header=None, names=HEADER)\n",
    "\n",
    "# Define algorithm and experiment parameters\n",
    "hparams  = tf.contrib.training.HParams(training_steps=10000, learning_rate=0.00001)\n",
    "\n",
    "# Set trained model location\n",
    "model_dir = \"trained_models/linear_regression_model\"\n",
    "\n",
    "# Clear model directory\n",
    "shutil.rmtree(model_dir, ignore_errors=True)\n",
    "\n",
    "run_config = tf.contrib.learn.RunConfig(\n",
    "    model_dir=model_dir\n",
    ")\n",
    "\n",
    "# Run experiement\n",
    "tf.logging.set_verbosity(tf.logging.INFO)\n",
    "tf.contrib.learn.learn_runner.run(experiment_fn = experiment_linear_regression, \n",
    "                               run_config = run_config,\n",
    "                               schedule=\"train_and_evaluate\",\n",
    "                               hparams=hparams)"
   ]
  },
  {
   "cell_type": "markdown",
   "metadata": {},
   "source": [
    "# Evaluate the trained Model - Linear Regression¶"
   ]
  },
  {
   "cell_type": "markdown",
   "metadata": {},
   "source": [
    "Now it's time to evaluate our Linear Regressor. "
   ]
  },
  {
   "cell_type": "code",
   "execution_count": 20,
   "metadata": {
    "collapsed": false
   },
   "outputs": [
    {
     "data": {
      "text/html": [
       "\n",
       "          <script src=\"/static/components/requirejs/require.js\"></script>\n",
       "          <script>\n",
       "            requirejs.config({\n",
       "              paths: {\n",
       "                base: '/static/base',\n",
       "              },\n",
       "            });\n",
       "          </script>\n",
       "          "
      ],
      "text/plain": [
       "<IPython.core.display.HTML object>"
      ]
     },
     "metadata": {},
     "output_type": "display_data"
    },
    {
     "name": "stdout",
     "output_type": "stream",
     "text": [
      "INFO:tensorflow:Using config: {'_model_dir': 'trained_models/linear_regression_model', '_save_checkpoints_secs': 600, '_num_ps_replicas': 0, '_keep_checkpoint_max': 5, '_tf_random_seed': None, '_task_type': None, '_environment': 'local', '_is_chief': True, '_cluster_spec': <tensorflow.python.training.server_lib.ClusterSpec object at 0x7f2cdfe792d0>, '_tf_config': gpu_options {\n",
      "  per_process_gpu_memory_fraction: 1.0\n",
      "}\n",
      ", '_num_worker_replicas': 0, '_task_id': 0, '_save_summary_steps': 100, '_save_checkpoints_steps': None, '_evaluation_master': '', '_keep_checkpoint_every_n_hours': 10000, '_master': '', '_session_config': None}\n",
      "\n",
      "train metric:{'loss': 119.26549, 'global_step': 10000, 'rmse': 10.920874}\n",
      "valid metric:{'loss': 128.64859, 'global_step': 10000, 'rmse': 11.342337}\n",
      "test metric:{'loss': 128.56544, 'global_step': 10000, 'rmse': 11.338671}\n"
     ]
    }
   ],
   "source": [
    "linear_model = tf.contrib.learn.LinearRegressor(\n",
    "        feature_columns=feature_columns,\n",
    "        config=run_config)\n",
    "\n",
    "print_evaluation(linear_model)"
   ]
  },
  {
   "cell_type": "markdown",
   "metadata": {},
   "source": [
    "# Create another experiment usting Deep Neural Network (DNN)"
   ]
  },
  {
   "cell_type": "markdown",
   "metadata": {},
   "source": [
    "So we have trained our first model. Now we can try a different one - Deep Neural Network. Here we're going to:\n",
    "- Setup another experiment\n",
    "- Initialize a deep neural network estimator\n",
    "- Run the experiment"
   ]
  },
  {
   "cell_type": "code",
   "execution_count": 21,
   "metadata": {
    "collapsed": false
   },
   "outputs": [
    {
     "data": {
      "text/html": [
       "\n",
       "          <script src=\"/static/components/requirejs/require.js\"></script>\n",
       "          <script>\n",
       "            requirejs.config({\n",
       "              paths: {\n",
       "                base: '/static/base',\n",
       "              },\n",
       "            });\n",
       "          </script>\n",
       "          "
      ],
      "text/plain": [
       "<IPython.core.display.HTML object>"
      ]
     },
     "metadata": {},
     "output_type": "display_data"
    }
   ],
   "source": [
    "#Setup experiment, initialize estimator and run experiment. \n",
    "def experiment_dnn_regression(run_config,hparams):\n",
    "    \n",
    "    dnn_estimator = tf.contrib.learn.DNNRegressor(\n",
    "            feature_columns = feature_columns,\n",
    "            hidden_units=hparams.hidden_units,\n",
    "            config = run_config\n",
    "    )\n",
    "    \n",
    "    experiment =  tf.contrib.learn.Experiment(estimator = dnn_estimator, \n",
    "                                     train_steps = hparams.training_steps,\n",
    "                                     train_input_fn = lambda: pandas_input_fn(df_train),\n",
    "                                     eval_input_fn =lambda: pandas_input_fn(df_valid),\n",
    "                                     eval_metrics = evaluation_metrics\n",
    "                                    )\n",
    "    return experiment"
   ]
  },
  {
   "cell_type": "markdown",
   "metadata": {},
   "source": [
    "# Set params and run experiemnt - DNN"
   ]
  },
  {
   "cell_type": "markdown",
   "metadata": {},
   "source": [
    "Now we can run our model! We need to do a few things here\n",
    "- Create Pandas data frames for train validation and test\n",
    "- Define our hyperparamaters\n",
    "- Clear our model directory\n",
    "- Set loggin\n",
    "- Run our experiment"
   ]
  },
  {
   "cell_type": "code",
   "execution_count": 22,
   "metadata": {
    "collapsed": false
   },
   "outputs": [
    {
     "data": {
      "text/html": [
       "\n",
       "          <script src=\"/static/components/requirejs/require.js\"></script>\n",
       "          <script>\n",
       "            requirejs.config({\n",
       "              paths: {\n",
       "                base: '/static/base',\n",
       "              },\n",
       "            });\n",
       "          </script>\n",
       "          "
      ],
      "text/plain": [
       "<IPython.core.display.HTML object>"
      ]
     },
     "metadata": {},
     "output_type": "display_data"
    },
    {
     "name": "stdout",
     "output_type": "stream",
     "text": [
      "WARNING:tensorflow:uid (from tensorflow.contrib.learn.python.learn.estimators.run_config) is experimental and may change or be removed at any time, and without warning.\n",
      "WARNING:tensorflow:uid (from tensorflow.contrib.learn.python.learn.estimators.run_config) is experimental and may change or be removed at any time, and without warning.\n",
      "WARNING:tensorflow:From /usr/local/lib/python2.7/dist-packages/tensorflow/contrib/learn/python/learn/monitors.py:268: __init__ (from tensorflow.contrib.learn.python.learn.monitors) is deprecated and will be removed after 2016-12-05.\n",
      "Instructions for updating:\n",
      "Monitors are deprecated. Please use tf.train.SessionRunHook.\n",
      "WARNING:tensorflow:From /usr/local/lib/python2.7/dist-packages/tensorflow/contrib/learn/python/learn/estimators/head.py:625: scalar_summary (from tensorflow.python.ops.logging_ops) is deprecated and will be removed after 2016-11-30.\n",
      "Instructions for updating:\n",
      "Please switch to tf.summary.scalar. Note that tf.summary.scalar uses the node name instead of the tag. This means that TensorFlow will automatically de-duplicate summary names based on the scope they are created in. Also, passing a tensor or list of tags to a scalar summary op is no longer supported.\n",
      "WARNING:tensorflow:From /usr/local/lib/python2.7/dist-packages/tensorflow/contrib/learn/python/learn/estimators/head.py:625: scalar_summary (from tensorflow.python.ops.logging_ops) is deprecated and will be removed after 2016-11-30.\n",
      "Instructions for updating:\n",
      "Please switch to tf.summary.scalar. Note that tf.summary.scalar uses the node name instead of the tag. This means that TensorFlow will automatically de-duplicate summary names based on the scope they are created in. Also, passing a tensor or list of tags to a scalar summary op is no longer supported.\n",
      "WARNING:tensorflow:From /usr/local/lib/python2.7/dist-packages/tensorflow/contrib/learn/python/learn/estimators/head.py:625: scalar_summary (from tensorflow.python.ops.logging_ops) is deprecated and will be removed after 2016-11-30.\n",
      "Instructions for updating:\n",
      "Please switch to tf.summary.scalar. Note that tf.summary.scalar uses the node name instead of the tag. This means that TensorFlow will automatically de-duplicate summary names based on the scope they are created in. Also, passing a tensor or list of tags to a scalar summary op is no longer supported.\n"
     ]
    },
    {
     "data": {
      "text/plain": [
       "({'global_step': 1000, 'loss': 230.79692, 'rmse': 15.192014}, [])"
      ]
     },
     "execution_count": 22,
     "metadata": {},
     "output_type": "execute_result"
    }
   ],
   "source": [
    "# Load dataset into dataframes\n",
    "df_train = pd.read_csv('/content/datalab/data/train-data.csv', header=None, names=HEADER)\n",
    "df_valid = pd.read_csv('/content/datalab/data/valid-data.csv', header=None, names=HEADER)\n",
    "df_test = pd.read_csv('/content/datalab/data/test-data.csv', header=None, names=HEADER)\n",
    "\n",
    "# Set params\n",
    "hparams  = tf.contrib.training.HParams(training_steps=1000,\n",
    "                                       hidden_units=[32, 8, 2])\n",
    "model_dir = \"trained_models/dnn_regression_model\"\n",
    "\n",
    "# Clear model directory# Clear model directory\n",
    "shutil.rmtree(model_dir, ignore_errors=True)\n",
    "\n",
    "run_config = tf.contrib.learn.RunConfig(\n",
    "    model_dir=model_dir\n",
    ")\n",
    "\n",
    "# Run the experiment\n",
    "tf.logging.set_verbosity(tf.logging.WARN)\n",
    "tf.contrib.learn.learn_runner.run(experiment_fn = experiment_dnn_regression, \n",
    "                               run_config = run_config,\n",
    "                               schedule=\"train_and_evaluate\",\n",
    "                               hparams=hparams)"
   ]
  },
  {
   "cell_type": "markdown",
   "metadata": {},
   "source": [
    "# Evaluate the trained model - DNN"
   ]
  },
  {
   "cell_type": "markdown",
   "metadata": {},
   "source": [
    "Now it's time to evaluate our Deep Neural Network. "
   ]
  },
  {
   "cell_type": "code",
   "execution_count": 23,
   "metadata": {
    "collapsed": false
   },
   "outputs": [
    {
     "data": {
      "text/html": [
       "\n",
       "          <script src=\"/static/components/requirejs/require.js\"></script>\n",
       "          <script>\n",
       "            requirejs.config({\n",
       "              paths: {\n",
       "                base: '/static/base',\n",
       "              },\n",
       "            });\n",
       "          </script>\n",
       "          "
      ],
      "text/plain": [
       "<IPython.core.display.HTML object>"
      ]
     },
     "metadata": {},
     "output_type": "display_data"
    },
    {
     "name": "stdout",
     "output_type": "stream",
     "text": [
      "\n",
      "train metric:{'loss': 215.55832, 'global_step': 1000, 'rmse': 14.681905}\n",
      "valid metric:{'loss': 230.79709, 'global_step': 1000, 'rmse': 15.192007}\n",
      "test metric:{'loss': 228.33098, 'global_step': 1000, 'rmse': 15.110624}\n"
     ]
    }
   ],
   "source": [
    "dnn_model = tf.contrib.learn.DNNRegressor(\n",
    "            feature_columns = feature_columns,\n",
    "            hidden_units=hparams.hidden_units,\n",
    "            config = run_config\n",
    "    )\n",
    "\n",
    "print_evaluation(dnn_model)"
   ]
  },
  {
   "cell_type": "markdown",
   "metadata": {},
   "source": [
    "# Results so far"
   ]
  },
  {
   "cell_type": "markdown",
   "metadata": {},
   "source": [
    "Now we are plotting our results so far. "
   ]
  },
  {
   "cell_type": "code",
   "execution_count": 24,
   "metadata": {
    "collapsed": false
   },
   "outputs": [
    {
     "data": {
      "text/html": [
       "\n",
       "          <script src=\"/static/components/requirejs/require.js\"></script>\n",
       "          <script>\n",
       "            requirejs.config({\n",
       "              paths: {\n",
       "                base: '/static/base',\n",
       "              },\n",
       "            });\n",
       "          </script>\n",
       "          "
      ],
      "text/plain": [
       "<IPython.core.display.HTML object>"
      ]
     },
     "metadata": {},
     "output_type": "display_data"
    },
    {
     "data": {
      "text/plain": [
       "<matplotlib.text.Text at 0x7f2cde3466d0>"
      ]
     },
     "execution_count": 24,
     "metadata": {},
     "output_type": "execute_result"
    },
    {
     "data": {
      "image/png": "[encoded data removed]",
      "text/plain": [
       "<matplotlib.figure.Figure at 0x7f2cde085910>"
      ]
     },
     "metadata": {},
     "output_type": "display_data"
    }
   ],
   "source": [
    "import seaborn as sns\n",
    "import matplotlib.pyplot as plt\n",
    "%matplotlib inline\n",
    "\n",
    "df = pd.DataFrame({\n",
    "              'Method' : pd.Series(['Basline', 'Linear Reg', 'DNN', ' ---', '----', '-----']),\n",
    "              'RMSE': pd.Series([8.89, 11.15, 14.94, 0, 0, 0.0]) })\n",
    "\n",
    "plt.figure(figsize=(15, 8))\n",
    "ax = sns.barplot(data=df, x='Method', y='RMSE')\n",
    "ax.set_ylabel('RMSE (dollars)')\n",
    "ax.set_xlabel('Method')"
   ]
  },
  {
   "cell_type": "code",
   "execution_count": null,
   "metadata": {
    "collapsed": true
   },
   "outputs": [],
   "source": []
  }
 ],
 "metadata": {
  "kernelspec": {
   "display_name": "Python 2",
   "language": "python",
   "name": "python2"
  },
  "language_info": {
   "codemirror_mode": {
    "name": "ipython",
    "version": 2
   },
   "file_extension": ".py",
   "mimetype": "text/x-python",
   "name": "python",
   "nbconvert_exporter": "python",
   "pygments_lexer": "ipython2",
   "version": "2.7.12"
  }
 },
 "nbformat": 4,
 "nbformat_minor": 2
}
