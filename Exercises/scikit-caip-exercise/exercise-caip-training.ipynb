{
 "cells": [
  {
   "cell_type": "markdown",
   "metadata": {},
   "source": [
    "# Training a scikit learn model on AI Platform training. \n",
    "[AI Platform Training](https://cloud.google.com/ml-engine/docs/training-overview) can be used to train models from Tensorflow, Keras, Scikit-learn, XGBoost and Custom containers on Google Cloud Platform. [AI Platform Prediction](https://cloud.google.com/ml-engine/docs/prediction-overview) can host your trained machine learning models in the cloud and use AI Platform Prediction to infer target values for new data.\n",
    "\n",
    "In this notebook we will do three things:\n",
    "+ Train a Scikit-learn model using AI Platform training. \n",
    "+ Host our trained model as an API using AI Platform Prediction. \n",
    "+ Call our API to get a prediction. \n",
    "\n",
    "First have a look at the [AI Platform GUI](https://console.cloud.google.com/ai-platform). When in the console you can see on the left Jobs and Models. Jobs is where you can monitor your training jobs. And you can find your deployed models under Models.  \n",
    "\n",
    "Before we get started have a look at the scikit-learn model code and how the folders are structured. The code can be found in the folder: scikit-caip/trainer. \n",
    "\n",
    "First we need to make sure that we have the required dependencies installed. Run the following cells to install the needed libraries matching the required version. "
   ]
  },
  {
   "cell_type": "code",
   "execution_count": null,
   "metadata": {},
   "outputs": [],
   "source": [
    "!sudo pip3 install -r requirements.txt"
   ]
  },
  {
   "cell_type": "markdown",
   "metadata": {},
   "source": [
    "You can use pip freeze to check the libraries and version. Only run the next cell if needed. "
   ]
  },
  {
   "cell_type": "code",
   "execution_count": null,
   "metadata": {},
   "outputs": [],
   "source": [
    "!pip freeze"
   ]
  },
  {
   "cell_type": "markdown",
   "metadata": {},
   "source": [
    "Only run if pandas-gbq is not properly installed."
   ]
  },
  {
   "cell_type": "code",
   "execution_count": null,
   "metadata": {},
   "outputs": [],
   "source": [
    "!sudo pip install pandas-gbq"
   ]
  },
  {
   "cell_type": "markdown",
   "metadata": {},
   "source": [
    "### Exercise One: Train on the Cloud using AI Platform Training\n",
    "We are going to train a model using Google Cloud AI Platform. have a look at how the code is structured. \n",
    "\n",
    "Change these parameters before running the next cell:\n",
    "\n",
    "+ --staging-bucket=*gs://specify_your_staging_bucket*\n",
    "+ Change jobname:  *training marketing_v1_11* into *your_unique_jobname*\n",
    "+ --pathoutput *gs://specify_your_output_bucket*\n",
    "\n",
    "Your job is submitted successfully when you see the following:\n",
    "\n",
    "    Job your_unique_jobname submitted successfully.\n",
    "    \n",
    "Tips:\n",
    "+ If you get stuck or if you want to understand which parameters `gcloud ai-platform` takes? Have a look at the [documentation](https://cloud.google.com/ml-engine/docs/packaging-trainer). \n",
    "+ `--staging-bucket` specifies the Cloud Storage location where you want to stage your training and dependency packages. Your Google Cloud project must have access to this Cloud Storage bucket, and the bucket should be in the same region that you run the job. \n",
    "+ `--pathoutput` this is where we output the trained model (joblib). \n",
    "+ Everything below `-- \\` are arguments that are parsed into the application and they are application dependend.  \n",
    "\n",
    "After runing the next cell you can go to the [console](http://console.cloud.google.com/ai-platform/jobs) to monitor your job. Also have a look at the logs to see the model output/performance."
   ]
  },
  {
   "cell_type": "code",
   "execution_count": 1,
   "metadata": {},
   "outputs": [
    {
     "name": "stdout",
     "output_type": "stream",
     "text": [
      "Job [marketing_v1_12] submitted successfully.\n",
      "Your job is still active. You may view the status of your job with the command\n",
      "\n",
      "  $ gcloud ai-platform jobs describe marketing_v1_12\n",
      "\n",
      "or continue streaming the logs with the command\n",
      "\n",
      "  $ gcloud ai-platform jobs stream-logs marketing_v1_12\n",
      "jobId: marketing_v1_12\n",
      "state: QUEUED\n"
     ]
    }
   ],
   "source": [
    "!gcloud ai-platform jobs submit your_unique_jobname \\\n",
    "   --staging-bucket=gs://specify_your_bucket \\\n",
    "   --region=us-central1 \\\n",
    "   --module-name=trainer.task \\\n",
    "   --package-path=trainer \\\n",
    "   --runtime-version 1.14 \\\n",
    "   --python-version 3.5 \\\n",
    "   -- \\\n",
    "   --pathdata gs://erwinh-public-data/scikit/data/marketing-data.csv \\\n",
    "   --pathoutput gs://specify_your_bucket \\\n",
    "   --storage GCS \\\n",
    "   --bqtable kfp-primer-workshop.marketing_data.raw"
   ]
  },
  {
   "cell_type": "markdown",
   "metadata": {},
   "source": [
    "# Please stop here"
   ]
  },
  {
   "cell_type": "markdown",
   "metadata": {},
   "source": [
    "### Exercise Two: Deploy model using AI Platform \n",
    "When the model is (successfully) trained we can take the trained model and publish it as an API. First change the following and give your model an unique name:\n",
    "\n",
    "    MODEL_NAME=\"<you_model_name>\"\n",
    "\n",
    "Then we will use gcloud to create our model on AI Platform by running: `gcloud ai-platform models create`. \n",
    "\n",
    "Run the following cell and check if your model is deployed. Go to the [console](https://console.cloud.google.com) -> AI Platform -> Models -> <you_model_name>. Here you will find your model. Creation can take a few minutes."
   ]
  },
  {
   "cell_type": "code",
   "execution_count": 16,
   "metadata": {},
   "outputs": [
    {
     "name": "stdout",
     "output_type": "stream",
     "text": [
      "\u001b[1;33mWARNING:\u001b[0m `--regions` flag will soon be required. Please explicitly specify a region. Using [us-central1] by default.\n",
      "Created ml engine model [projects/erwinh-ml-demos/models/marketingpredictor].\n"
     ]
    }
   ],
   "source": [
    "!gcloud ai-platform models create <you_model_name>"
   ]
  },
  {
   "cell_type": "markdown",
   "metadata": {},
   "source": [
    "### Exercise three: Deploy your model as an API using AI Platform\n",
    "\n",
    "We are going to deploy a model using Google Cloud AI Platform. You have to write the `gcloud` command to deploy a version of your trained model. \n",
    "\n",
    "To do:\n",
    "+ Write the `gcloud` command to deploy the trained model artifact to Google AI Platform. \n",
    "+ Have a look at the [documentation](https://cloud.google.com/ml-engine/docs/deploying-models#create_a_model_resource). \n",
    "+ Hint have a look at :) `gcloud ai-platform versions create`.\n",
    "+ Don't forget to start your gcloud command in the next cell with `!`\n",
    "+ Go to the [console](https://console.cloud.google.com) -> AI Platform -> Models -> <you_model_name> and check if your model version has been created. Creation can take a few minutes."
   ]
  },
  {
   "cell_type": "code",
   "execution_count": null,
   "metadata": {},
   "outputs": [],
   "source": [
    "!gloud "
   ]
  },
  {
   "cell_type": "markdown",
   "metadata": {},
   "source": [
    "## Exercise four: Getting a prediction\n",
    "After deploying our model we can call the API to get a prediction. \n",
    "\n",
    "To do:\n",
    "+ Write to gcloud command to get a prediction.\n",
    "+ Have a look at the [documentation](https://cloud.google.com/ml-engine/docs/deploying-models#create_a_model_resource).\n",
    "+ Hint: `gcloud ai-platform predict`\n",
    "+ Don't forget to start your command with `!`\n",
    "\n",
    "After running the cell you should see something like this:\n",
    "\n",
    "    [True, True]"
   ]
  },
  {
   "cell_type": "code",
   "execution_count": 20,
   "metadata": {},
   "outputs": [
    {
     "name": "stdout",
     "output_type": "stream",
     "text": [
      "[False, True]\n"
     ]
    }
   ],
   "source": [
    "!gloud"
   ]
  },
  {
   "cell_type": "markdown",
   "metadata": {},
   "source": [
    "Copyright 2019 Google Inc. All Rights Reserved. # Licensed under the Apache License, Version 2.0 (the \"License\"); # you may not use this file except in compliance with the License. # You may obtain a copy of the License at # # http://www.apache.org/licenses/LICENSE-2.0 # # Unless required by applicable law or agreed to in writing, software # distributed under the License is distributed on an \"AS IS\" BASIS, # WITHOUT WARRANTIES OR CONDITIONS OF ANY KIND, either express or implied. # See the License for the specific language governing permissions and # limitations under the License."
   ]
  }
 ],
 "metadata": {
  "kernelspec": {
   "display_name": "Python 3",
   "language": "python",
   "name": "python3"
  },
  "language_info": {
   "codemirror_mode": {
    "name": "ipython",
    "version": 3
   },
   "file_extension": ".py",
   "mimetype": "text/x-python",
   "name": "python",
   "nbconvert_exporter": "python",
   "pygments_lexer": "ipython3",
   "version": "3.5.3"
  }
 },
 "nbformat": 4,
 "nbformat_minor": 4
}
