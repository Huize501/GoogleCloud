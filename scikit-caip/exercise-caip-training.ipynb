{
 "cells": [
  {
   "cell_type": "markdown",
   "metadata": {},
   "source": [
    "# Exercise training a sklearn model on Cloud AI Platform"
   ]
  },
  {
   "cell_type": "markdown",
   "metadata": {},
   "source": [
    "Before you can start training the model we have to make sure that we have the required dependency installed. "
   ]
  },
  {
   "cell_type": "code",
   "execution_count": null,
   "metadata": {},
   "outputs": [],
   "source": [
    "!pip3 install -r requirements.txt"
   ]
  },
  {
   "cell_type": "code",
   "execution_count": null,
   "metadata": {},
   "outputs": [],
   "source": [
    "!pip install pandas-gbq"
   ]
  },
  {
   "cell_type": "markdown",
   "metadata": {},
   "source": [
    "### Local training\n",
    "First we have to see if our model trains locally. This will help us debug any issues before training on the Google Cloud Platform. Please make sure that you set the --pathoutput. "
   ]
  },
  {
   "cell_type": "code",
   "execution_count": 1,
   "metadata": {},
   "outputs": [
    {
     "name": "stdout",
     "output_type": "stream",
     "text": [
      "[True, False, False, False, True, False, False, False, True, False, True, True, True, True, False]\n",
      "[False, True, True, True, False, False, False, True, False, True, False, False, False, False, True]\n",
      "WARNING:tensorflow:From trainer/util/utils.py:40: The name tf.gfile.Exists is deprecated. Please use tf.io.gfile.exists instead.\n",
      "\n",
      "WARNING:tensorflow:From trainer/util/utils.py:43: The name tf.gfile.Open is deprecated. Please use tf.io.gfile.GFile instead.\n",
      "\n",
      "model score: 0.904\n",
      "pipeline run done :)\n"
     ]
    }
   ],
   "source": [
    "!gcloud ai-platform local train \\\n",
    "   --module-name=trainer.task \\\n",
    "   --package-path=trainer/ \\\n",
    "   -- \\\n",
    "   --pathdata gs://erwinh-mldemo/scikit/marketing-data.csv \\\n",
    "   --pathoutput <your_bucket_path> \\ # set to your bucket. Example: gs://bucket/folder \n",
    "   --storage BQ \\\n",
    "   --bqtable kfp-primer-workshop.marketing_data.raw"
   ]
  },
  {
   "cell_type": "markdown",
   "metadata": {},
   "source": [
    "change job name: marketing_v1_98"
   ]
  },
  {
   "cell_type": "code",
   "execution_count": 23,
   "metadata": {},
   "outputs": [
    {
     "name": "stdout",
     "output_type": "stream",
     "text": [
      "Job [marketing_v1_99] submitted successfully.\n",
      "Your job is still active. You may view the status of your job with the command\n",
      "\n",
      "  $ gcloud ai-platform jobs describe marketing_v1_99\n",
      "\n",
      "or continue streaming the logs with the command\n",
      "\n",
      "  $ gcloud ai-platform jobs stream-logs marketing_v1_99\n",
      "jobId: marketing_v1_99\n",
      "state: QUEUED\n"
     ]
    }
   ],
   "source": [
    "!gcloud ai-platform jobs submit training marketing_v1_99 \\\n",
    "   --staging-bucket=gs://kfp-scikit \\\n",
    "   --region=us-central1 \\\n",
    "   --module-name=trainer.task \\\n",
    "   --package-path=trainer \\\n",
    "   --runtime-version 1.14 \\\n",
    "   --python-version 3.5 \\\n",
    "   -- \\\n",
    "   --pathdata gs://kfp-scikit/data/scikit/marketing-data.csv \\\n",
    "   --pathoutput gs://kfp-scikit/model/output \\\n",
    "   --storage BQ \\\n",
    "   --bqtable kfp-primer-workshop.marketing_data.raw"
   ]
  },
  {
   "cell_type": "code",
   "execution_count": 28,
   "metadata": {},
   "outputs": [],
   "source": [
    "%%bash\n",
    "MODEL_NAME=\"Marketing\"\n",
    "MODEL_VERSION=\"v2\"\n",
    "MODEL_LOCATION='gs://kfp-scikit/model/output/model/' "
   ]
  },
  {
   "cell_type": "code",
   "execution_count": 41,
   "metadata": {},
   "outputs": [
    {
     "name": "stdout",
     "output_type": "stream",
     "text": [
      "\u001b[1;33mWARNING:\u001b[0m `--regions` flag will soon be required. Please explicitly specify a region. Using [us-central1] by default.\n",
      "Created ml engine model [projects/kfp-primer-workshop/models/marketingpredictor].\n"
     ]
    }
   ],
   "source": [
    "!gcloud ai-platform models create marketingpredictor"
   ]
  },
  {
   "cell_type": "code",
   "execution_count": 44,
   "metadata": {},
   "outputs": [
    {
     "name": "stdout",
     "output_type": "stream",
     "text": [
      "Creating version (this might take a few minutes)......done.                    \n"
     ]
    }
   ],
   "source": [
    "!gcloud ai-platform versions create marketing_v1 \\\n",
    "--model marketingpredictor \\\n",
    "--origin gs://kfp-scikit/model/output/model/ \\\n",
    "--runtime-version 1.14 \\\n",
    "--framework scikit-learn \\\n",
    "--python-version 3.5"
   ]
  },
  {
   "cell_type": "code",
   "execution_count": 46,
   "metadata": {},
   "outputs": [
    {
     "name": "stdout",
     "output_type": "stream",
     "text": [
      "[True, True]\n"
     ]
    }
   ],
   "source": [
    "!gcloud ai-platform predict \\\n",
    "  --model marketingpredictor \\\n",
    "  --version marketing_v1 \\\n",
    "  --json-instances trainer/predict.json"
   ]
  },
  {
   "cell_type": "code",
   "execution_count": null,
   "metadata": {},
   "outputs": [],
   "source": []
  }
 ],
 "metadata": {
  "kernelspec": {
   "display_name": "Python 3",
   "language": "python",
   "name": "python3"
  },
  "language_info": {
   "codemirror_mode": {
    "name": "ipython",
    "version": 3
   },
   "file_extension": ".py",
   "mimetype": "text/x-python",
   "name": "python",
   "nbconvert_exporter": "python",
   "pygments_lexer": "ipython3",
   "version": "3.5.3"
  }
 },
 "nbformat": 4,
 "nbformat_minor": 4
}
