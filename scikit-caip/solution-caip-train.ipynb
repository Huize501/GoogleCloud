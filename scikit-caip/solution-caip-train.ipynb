{
 "cells": [
  {
   "cell_type": "markdown",
   "metadata": {},
   "source": [
    "# Training a scikit learn model on AI Platform training. \n",
    "AI Platform training can be used to train models from Tensorflow, Keras, Scikit-learn, XGBoost and Custom containers on Google Cloud Platform. \n",
    "\n",
    "First go to the GCP [console](https://console.cloud.google.com). When in the console navigate, using the menu on the left, to AI Platform -> Jobs. This will take you to the interface from where you will monitor your training jobs. \n",
    "\n",
    "Before we get started have a look at the scikit-learn model code and how the folders are structured. The code can be found in the folder: scikit-caip/trainer. \n",
    "\n",
    "Before you can start training the model we have to make sure that we have the required dependency installed. Run the following cells to install the needed dependencies. "
   ]
  },
  {
   "cell_type": "code",
   "execution_count": null,
   "metadata": {},
   "outputs": [],
   "source": [
    "!sudo pip3 install -r requirements.txt"
   ]
  },
  {
   "cell_type": "code",
   "execution_count": null,
   "metadata": {},
   "outputs": [],
   "source": [
    "!pip freeze"
   ]
  },
  {
   "cell_type": "code",
   "execution_count": null,
   "metadata": {},
   "outputs": [],
   "source": [
    "!sudo pip install pandas-gbq"
   ]
  },
  {
   "cell_type": "markdown",
   "metadata": {},
   "source": [
    "### Train on the Cloud using AI Platform Training\n",
    "If the local training works it's time to train our model on the cloud. Please change these two parameters before running the next cell:\n",
    "\n",
    "    pathoutput gs://path_to_your_folder\n",
    "    jobname <set_to_your_jobname>\n",
    "\n",
    "Your job is submitted succesfully when you see the following:\n",
    "\n",
    "    Job [your_jobname] submitted successfully.\n",
    "\n",
    "Now you can go to the console to monitor your job. "
   ]
  },
  {
   "cell_type": "code",
   "execution_count": 18,
   "metadata": {},
   "outputs": [
    {
     "name": "stdout",
     "output_type": "stream",
     "text": [
      "\u001b[1;31mERROR:\u001b[0m (gcloud.ai-platform.jobs.submit.training) Resource in project [erwinh-ml-demos] is the subject of a conflict: Field: job.job_id Error: A job with this id already exists.\n",
      "- '@type': type.googleapis.com/google.rpc.BadRequest\n",
      "  fieldViolations:\n",
      "  - description: A job with this id already exists.\n",
      "    field: job.job_id\n"
     ]
    }
   ],
   "source": [
    "!gcloud ai-platform jobs submit training marketing_v1_11 \\\n",
    "   --staging-bucket=gs://erwinh-ml-demos \\\n",
    "   --region=us-central1 \\\n",
    "   --module-name=trainer.task \\\n",
    "   --package-path=trainer \\\n",
    "   --runtime-version 1.14 \\\n",
    "   --python-version 3.5 \\\n",
    "   -- \\\n",
    "   --pathdata gs://erwinh-public-data/scikit/data/marketing-data.csv \\\n",
    "   --pathoutput gs://erwinh-ml-demos/output-scikit/ \\\n",
    "   --storage GCS \\\n",
    "   --bqtable kfp-primer-workshop.marketing_data.raw"
   ]
  },
  {
   "cell_type": "markdown",
   "metadata": {},
   "source": [
    "### Deploy model using AI Platform \n",
    "When the model is succesfully trained we can take the trained model and publish it as an API. Change the following variables:\n",
    "\n",
    "    MODEL_NAME=\"<you_model_name>\"\n",
    "    MODEL_LOCATION=\"gs://<your_model_output_path>\" \n",
    "\n",
    "Now check if your model is deployed. Go to the [console](https://console.cloud.google.com) -> AI Platform -> Models -> marketingpredictor. Here you will find your model. This can take a few minutes. "
   ]
  },
  {
   "cell_type": "code",
   "execution_count": 16,
   "metadata": {},
   "outputs": [
    {
     "name": "stdout",
     "output_type": "stream",
     "text": [
      "\u001b[1;33mWARNING:\u001b[0m `--regions` flag will soon be required. Please explicitly specify a region. Using [us-central1] by default.\n",
      "Created ml engine model [projects/erwinh-ml-demos/models/marketingpredictor].\n"
     ]
    }
   ],
   "source": [
    "!gcloud ai-platform models create marketingpredictor"
   ]
  },
  {
   "cell_type": "markdown",
   "metadata": {},
   "source": [
    "### Deploy the first version of you model\n",
    "\n",
    "We are going to train a model using Google Cloud AI Platform. have a look at how the code is structured. \n",
    "\n",
    "To do:\n",
    "+ Write the command to deploy the trained model artifact to Google AI Platform. \n",
    "+ Have a ook at the [documentation](https://cloud.google.com/ml-engine/docs/deploying-models#create_a_model_resource). \n",
    "+ Hint use gcloud: gcloud ai-platform versions create.\n",
    "+ Don't forget to start your gcloud command with !"
   ]
  },
  {
   "cell_type": "code",
   "execution_count": 19,
   "metadata": {},
   "outputs": [
    {
     "name": "stdout",
     "output_type": "stream",
     "text": [
      "Creating version (this might take a few minutes)......done.                    \n"
     ]
    }
   ],
   "source": [
    "!gcloud ai-platform versions create marketing_v1 \\\n",
    "--model marketingpredictor \\\n",
    "--origin gs://erwinh-ml-demos/output-scikit/model \\\n",
    "--runtime-version 1.14 \\\n",
    "--framework scikit-learn \\\n",
    "--python-version 3.5"
   ]
  },
  {
   "cell_type": "markdown",
   "metadata": {},
   "source": [
    "## Getting a prediction\n",
    "After deploying our model we can call the API to get a prediction. \n",
    "\n",
    "To do:\n",
    "+ Write to gcloud command to get a prediction.\n",
    "+ Have a ook at the [documentation](https://cloud.google.com/ml-engine/docs/deploying-models#create_a_model_resource).\n",
    "+ Don't forget to start your command with !\n",
    "\n",
    "After running the cell you should see something like this:\n",
    "\n",
    "    [True, True]"
   ]
  },
  {
   "cell_type": "code",
   "execution_count": 20,
   "metadata": {},
   "outputs": [
    {
     "name": "stdout",
     "output_type": "stream",
     "text": [
      "[False, True]\n"
     ]
    }
   ],
   "source": [
    "!gcloud ai-platform predict \\\n",
    "  --model marketingpredictor \\\n",
    "  --version marketing_v1 \\\n",
    "  --json-instances trainer/predict.json"
   ]
  },
  {
   "cell_type": "markdown",
   "metadata": {},
   "source": [
    "Copyright 2019 Google Inc. All Rights Reserved. # Licensed under the Apache License, Version 2.0 (the \"License\"); # you may not use this file except in compliance with the License. # You may obtain a copy of the License at # # http://www.apache.org/licenses/LICENSE-2.0 # # Unless required by applicable law or agreed to in writing, software # distributed under the License is distributed on an \"AS IS\" BASIS, # WITHOUT WARRANTIES OR CONDITIONS OF ANY KIND, either express or implied. # See the License for the specific language governing permissions and # limitations under the License."
   ]
  }
 ],
 "metadata": {
  "kernelspec": {
   "display_name": "Python 3",
   "language": "python",
   "name": "python3"
  },
  "language_info": {
   "codemirror_mode": {
    "name": "ipython",
    "version": 3
   },
   "file_extension": ".py",
   "mimetype": "text/x-python",
   "name": "python",
   "nbconvert_exporter": "python",
   "pygments_lexer": "ipython3",
   "version": "3.5.3"
  }
 },
 "nbformat": 4,
 "nbformat_minor": 4
}
