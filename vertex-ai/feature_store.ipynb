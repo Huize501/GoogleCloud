{
 "cells": [
  {
   "cell_type": "code",
   "execution_count": null,
   "id": "72dd3066",
   "metadata": {},
   "outputs": [],
   "source": [
    "# Copyright 2021 Google LLC\n",
    "#\n",
    "# Licensed under the Apache License, Version 2.0 (the \"License\");\n",
    "# you may not use this file except in compliance with the License.\n",
    "# You may obtain a copy of the License at\n",
    "#\n",
    "#     https://www.apache.org/licenses/LICENSE-2.0\n",
    "#\n",
    "# Unless required by applicable law or agreed to in writing, software\n",
    "# distributed under the License is distributed on an \"AS IS\" BASIS,\n",
    "# WITHOUT WARRANTIES OR CONDITIONS OF ANY KIND, either express or implied.\n",
    "# See the License for the specific language governing permissions and\n",
    "# limitations under the License."
   ]
  },
  {
   "cell_type": "markdown",
   "id": "5daac5b7",
   "metadata": {},
   "source": [
    "# Vertex AI Feature Store with BigQuery"
   ]
  },
  {
   "cell_type": "markdown",
   "id": "c8537950-b299-4f8e-9fb3-81b65dc734e6",
   "metadata": {},
   "source": [
    "---\n",
    "---\n",
    "## 1. Environment Setup </font>\n",
    "---\n",
    "### 1.1 Set up your local development environment\n",
    "\n",
    "**If you are using Colab or Google Cloud Notebooks**, your environment already meets\n",
    "all the requirements to run this notebook. You can skip this step."
   ]
  },
  {
   "cell_type": "markdown",
   "id": "e3b7252b-3307-4507-b327-5b1169984688",
   "metadata": {},
   "source": [
    "**Otherwise**, make sure your environment meets this notebook's requirements.\n",
    "You need the following:\n",
    "\n",
    "* The Google Cloud SDK\n",
    "* Git\n",
    "* Python 3\n",
    "* virtualenv\n",
    "* Jupyter notebook running in a virtual environment with Python 3\n",
    "\n",
    "The Google Cloud guide to [Setting up a Python development\n",
    "environment](https://cloud.google.com/python/setup) and the [Jupyter\n",
    "installation guide](https://jupyter.org/install) provide detailed instructions\n",
    "for meeting these requirements. The following steps provide a condensed set of\n",
    "instructions:\n",
    "\n",
    "1. [Install and initialize the Cloud SDK.](https://cloud.google.com/sdk/docs/)\n",
    "\n",
    "1. [Install Python 3.](https://cloud.google.com/python/setup#installing_python)\n",
    "\n",
    "1. [Install\n",
    "   virtualenv](https://cloud.google.com/python/setup#installing_and_using_virtualenv)\n",
    "   and create a virtual environment that uses Python 3. Activate the virtual environment.\n",
    "\n",
    "1. To install Jupyter, run `pip install jupyter` on the\n",
    "command-line in a terminal shell.\n",
    "\n",
    "1. To launch Jupyter, run `jupyter notebook` on the command-line in a terminal shell.\n",
    "\n",
    "1. Open this notebook in the Jupyter Notebook Dashboard."
   ]
  },
  {
   "cell_type": "markdown",
   "id": "a43bac41-d712-4b08-8c39-a7ad6f24b38e",
   "metadata": {},
   "source": [
    "---\n",
    "### 1.2 Install additional packages"
   ]
  },
  {
   "cell_type": "code",
   "execution_count": 11,
   "id": "7e9fa82b-9205-492f-9ced-d2d82e405766",
   "metadata": {},
   "outputs": [],
   "source": [
    "import sys\n",
    "\n",
    "if \"google.colab\" in sys.modules:\n",
    "    USER_FLAG = \"\"\n",
    "else:\n",
    "    USER_FLAG = \"--user\""
   ]
  },
  {
   "cell_type": "markdown",
   "id": "91d25ed9-ef50-43b8-bb81-12c979aa917e",
   "metadata": {},
   "source": [
    "Run the following cell if you haven't installed the latest packages. "
   ]
  },
  {
   "cell_type": "code",
   "execution_count": null,
   "id": "8f43ba0b-a269-4758-9aaf-a73aaa4d48b6",
   "metadata": {},
   "outputs": [],
   "source": [
    "#!pip3 install {USER_FLAG} google-cloud-aiplatform --upgrade\n",
    "#!pip3 install {USER_FLAG} kfp google-cloud-pipeline-components --upgrade\n",
    "#!pip3 install explainable-ai-sdk"
   ]
  },
  {
   "cell_type": "markdown",
   "id": "305ee8fc-462e-4adc-be28-be15bb3f7f59",
   "metadata": {},
   "source": [
    "---\n",
    "### 1.3 Restart the kernel\n",
    "\n",
    "**Only after** you install the additional packages, you need to restart the notebook kernel so it can find the packages."
   ]
  },
  {
   "cell_type": "code",
   "execution_count": 1,
   "id": "3909948f-c8b4-48ae-97fe-d53e99ccdc92",
   "metadata": {},
   "outputs": [],
   "source": [
    "# Automatically restart kernel after installs\n",
    "import os\n",
    "\n",
    "if not os.getenv(\"IS_TESTING\"):\n",
    "    # Automatically restart kernel after installs\n",
    "    import IPython\n",
    "\n",
    "    app = IPython.Application.instance()\n",
    "    app.kernel.do_shutdown(True)"
   ]
  },
  {
   "cell_type": "markdown",
   "id": "f5cb7b1b-4112-4cac-beb3-9658960f0ede",
   "metadata": {},
   "source": [
    "Check the versions of the packages you installed.  The KFP SDK version should be >=1.6."
   ]
  },
  {
   "cell_type": "code",
   "execution_count": 3,
   "id": "a56d721a-8eeb-4ad6-8a53-6c4e2c164bae",
   "metadata": {},
   "outputs": [
    {
     "name": "stdout",
     "output_type": "stream",
     "text": [
      "KFP SDK version: 1.8.12\n"
     ]
    }
   ],
   "source": [
    "!python3 -c \"import kfp; print('KFP SDK version: {}'.format(kfp.__version__))\""
   ]
  },
  {
   "cell_type": "markdown",
   "id": "2f3d0738-0fd3-4365-9aea-eba2a27c4f77",
   "metadata": {},
   "source": [
    "### 1.4 Set up your Google Cloud project\n",
    "\n",
    "**The following steps are required, regardless of your notebook environment.**\n",
    "\n",
    "1. [Select or create a Google Cloud project](https://console.cloud.google.com/cloud-resource-manager). When you first create an account, you get a $300 free credit towards your compute/storage costs.\n",
    "\n",
    "1. [Make sure that billing is enabled for your project](https://cloud.google.com/billing/docs/how-to/modify-project).\n",
    "\n",
    "1. [Enable the Vertex AI, Cloud Storage, and Compute Engine APIs](https://console.cloud.google.com/flows/enableapi?apiid=aiplatform.googleapis.com,compute_component,storage-component.googleapis.com). \n",
    "\n",
    "1. Follow the \"**Configuring your project**\" instructions from the Vertex Pipelines documentation.\n",
    "\n",
    "1. If you are running this notebook locally, you will need to install the [Cloud SDK](https://cloud.google.com/sdk).\n",
    "\n",
    "1. Enter your project ID in the cell below. Then run the cell to make sure the\n",
    "Cloud SDK uses the right project for all the commands in this notebook.#### Set your project ID"
   ]
  },
  {
   "cell_type": "markdown",
   "id": "7f332018-6966-4522-80af-1470b62fb90d",
   "metadata": {},
   "source": [
    "#### Set your project ID\n",
    "\n",
    "**If you don't know your project ID**, you may be able to get your project ID using `gcloud`. You can get the project ID running the next cell. "
   ]
  },
  {
   "cell_type": "code",
   "execution_count": 1,
   "id": "49e857d1-e310-4226-a43e-b7e10d623371",
   "metadata": {},
   "outputs": [
    {
     "name": "stdout",
     "output_type": "stream",
     "text": [
      "Project ID:  erwinh-demo-joonix\n"
     ]
    }
   ],
   "source": [
    "import os\n",
    "\n",
    "PROJECT_ID = \"\"\n",
    "\n",
    "# Get your Google Cloud project ID from gcloud\n",
    "if not os.getenv(\"IS_TESTING\"):\n",
    "    shell_output=!gcloud config list --format 'value(core.project)' 2>/dev/null\n",
    "    PROJECT_ID = shell_output[0]\n",
    "    print(\"Project ID: \", PROJECT_ID)"
   ]
  },
  {
   "cell_type": "markdown",
   "id": "ab8bf8a0-c5cc-40eb-b762-a917ceacafca",
   "metadata": {},
   "source": [
    "Otherwise, set your project ID here."
   ]
  },
  {
   "cell_type": "code",
   "execution_count": 3,
   "id": "48fd416b-85ae-4679-b18e-8ba9d7421c52",
   "metadata": {},
   "outputs": [],
   "source": [
    "if PROJECT_ID == \"\" or PROJECT_ID is None:\n",
    "    PROJECT_ID = \"erwinh-experimental\"  # @param {type:\"string\"} update with your project id. "
   ]
  },
  {
   "cell_type": "markdown",
   "id": "0a35f960-9f82-431e-a33a-ca259b167cfb",
   "metadata": {},
   "source": [
    "#### Timestamp\n",
    "\n",
    "If you are in a live tutorial session, you might be using a shared test account or project. To avoid name collisions between users on resources created, you create a timestamp for each instance session, and append it onto the name of resources you create in this tutorial."
   ]
  },
  {
   "cell_type": "code",
   "execution_count": 4,
   "id": "a657b475-5614-4ffd-a984-da876eb4d029",
   "metadata": {},
   "outputs": [],
   "source": [
    "from datetime import datetime\n",
    "\n",
    "TIMESTAMP = datetime.now().strftime(\"%Y%m%d%H%M%S\")"
   ]
  },
  {
   "cell_type": "markdown",
   "id": "6ce5b9eb-93bf-4f98-a324-31fe605436ba",
   "metadata": {},
   "source": [
    "---\n",
    "### 1.5 Authenticate your Google Cloud account\n",
    "\n",
    "**If you are using Google Cloud Notebooks**, your environment is already\n",
    "authenticated. Skip this step."
   ]
  },
  {
   "cell_type": "markdown",
   "id": "59911c37-2968-49ad-ac00-7fab75bd3b4e",
   "metadata": {},
   "source": [
    "**If you are using Colab**, run the cell below and follow the instructions\n",
    "when prompted to authenticate your account via oAuth.\n",
    "\n",
    "**Otherwise**, follow these steps:\n",
    "\n",
    "1. In the Cloud Console, go to the [**Create service account key**\n",
    "   page](https://console.cloud.google.com/apis/credentials/serviceaccountkey).\n",
    "\n",
    "2. Click **Create service account**.\n",
    "\n",
    "3. In the **Service account name** field, enter a name, and\n",
    "   click **Create**.\n",
    "\n",
    "4. In the **Grant this service account access to project** section, click the **Role** drop-down list. Type \"Vertex AI\"\n",
    "into the filter box, and select\n",
    "   **Vertex AI Administrator**. Type \"Storage Object Admin\" into the filter box, and select **Storage Object Admin**.\n",
    "\n",
    "5. Click *Create*. A JSON file that contains your key downloads to your\n",
    "local environment.\n",
    "\n",
    "6. Enter the path to your service account key as the\n",
    "`GOOGLE_APPLICATION_CREDENTIALS` variable in the cell below and run the cell."
   ]
  },
  {
   "cell_type": "code",
   "execution_count": 13,
   "id": "55f5e15d-a4a6-4502-869a-32b5820d4b11",
   "metadata": {},
   "outputs": [],
   "source": [
    "#import os\n",
    "#import sys\n",
    "\n",
    "# If you are running this notebook in Colab, run this cell and follow the\n",
    "# instructions to authenticate your GCP account. This provides access to your\n",
    "# Cloud Storage bucket and lets you submit training jobs and prediction\n",
    "# requests.\n",
    "\n",
    "# If on Google Cloud Notebooks, then don't execute this code\n",
    "#if not os.path.exists(\"/opt/deeplearning/metadata/env_version\"):\n",
    "#    if \"google.colab\" in sys.modules:\n",
    "#        from google.colab import auth as google_auth\n",
    "#\n",
    "#        google_auth.authenticate_user()\n",
    "#\n",
    "#    # If you are running this notebook locally, replace the string below with the\n",
    "#    # path to your service account key and run this cell to authenticate your GCP\n",
    "#    # account.\n",
    "#    elif not os.getenv(\"IS_TESTING\"):\n",
    "#        %env GOOGLE_APPLICATION_CREDENTIALS ''"
   ]
  },
  {
   "cell_type": "markdown",
   "id": "fbb9178b-9a1c-4299-9f5f-e14e96d9ce80",
   "metadata": {},
   "source": [
    "---\n",
    "### 1.6 Create a Cloud Storage bucket as necessary\n",
    "\n",
    "You will need a Cloud Storage bucket for this example.  If you don't have one that you want to use, you can make one now.\n",
    "\n",
    "\n",
    "Set the name of your Cloud Storage bucket below. It must be unique across all\n",
    "Cloud Storage buckets."
   ]
  },
  {
   "cell_type": "code",
   "execution_count": 7,
   "id": "cb76d8a6-04df-4f50-9067-2cf31c1d6e5d",
   "metadata": {},
   "outputs": [],
   "source": [
    "BUCKET_NAME = \"gs://erwinh-demo-joonix/features\" \n",
    "REGION = \"us-central1\"  \n",
    "if BUCKET_NAME == \"\" or BUCKET_NAME is None or BUCKET_NAME == \"gs://[your-bucket-name]\":\n",
    "    BUCKET_NAME = \"gs://\" + PROJECT_ID + \"aip-\" + TIMESTAMP"
   ]
  },
  {
   "cell_type": "markdown",
   "id": "482ec5cc-7971-457d-b46d-4db41f7d42b7",
   "metadata": {},
   "source": [
    "**Only if your bucket doesn't already exist**: Run the following cell to create your Cloud Storage bucket."
   ]
  },
  {
   "cell_type": "code",
   "execution_count": 8,
   "id": "da08510a-3fad-470c-8f75-3d387f22c8c7",
   "metadata": {},
   "outputs": [],
   "source": [
    "#! gsutil mb -l $REGION $BUCKET_NAME"
   ]
  },
  {
   "cell_type": "markdown",
   "id": "31f9191e-6db7-4eda-9d07-88c8eebc6036",
   "metadata": {},
   "source": [
    "Finally, validate access to your Cloud Storage bucket by examining its contents:"
   ]
  },
  {
   "cell_type": "code",
   "execution_count": 9,
   "id": "b44df2a0-2fc0-4f3d-9b8c-b6988ad6a791",
   "metadata": {},
   "outputs": [
    {
     "name": "stdout",
     "output_type": "stream",
     "text": [
      "         0  2022-08-15T08:16:16Z  gs://erwinh-demo-joonix/features/#1660551376326851  metageneration=1\n",
      "TOTAL: 1 objects, 0 bytes (0 B)\n"
     ]
    }
   ],
   "source": [
    "! gsutil ls -al $BUCKET_NAME"
   ]
  },
  {
   "cell_type": "markdown",
   "id": "865b3fed-c972-4c7c-a591-79181190c790",
   "metadata": {},
   "source": [
    "### 1.7 Import libraries and define constants"
   ]
  },
  {
   "cell_type": "code",
   "execution_count": 10,
   "id": "bcc28bc1-7ff7-44cc-b5ac-1832d0b65813",
   "metadata": {},
   "outputs": [
    {
     "name": "stdout",
     "output_type": "stream",
     "text": [
      "env: PATH=/opt/conda/bin:/opt/conda/condabin:/usr/local/bin:/usr/bin:/bin:/usr/local/games:/usr/games:/home/jupyter/.local/bin\n",
      "gs://erwinh-demo-joonix/features/pipeline_root/erwinh/20220815081456 train_deploy20220815081456\n"
     ]
    }
   ],
   "source": [
    "PATH=%env PATH\n",
    "%env PATH={PATH}:/home/jupyter/.local/bin\n",
    "\n",
    "USER = \"erwinh\"  # <---CHANGE THIS \n",
    "PIPELINE_ROOT = \"{}/pipeline_root/{}\".format(BUCKET_NAME, USER)\n",
    "\n",
    "WORKING_DIR = f\"{PIPELINE_ROOT}/{TIMESTAMP}\"\n",
    "\n",
    "MODEL_DISPLAY_NAME = f\"train_deploy{TIMESTAMP}\"\n",
    "print(WORKING_DIR, MODEL_DISPLAY_NAME)"
   ]
  },
  {
   "cell_type": "code",
   "execution_count": 11,
   "id": "fc6b57ff-f751-40a6-953c-bff3b0be84df",
   "metadata": {},
   "outputs": [
    {
     "name": "stderr",
     "output_type": "stream",
     "text": [
      "2022-08-15 08:16:52.462861: W tensorflow/stream_executor/platform/default/dso_loader.cc:64] Could not load dynamic library 'libcudart.so.11.0'; dlerror: libcudart.so.11.0: cannot open shared object file: No such file or directory\n",
      "2022-08-15 08:16:52.462931: I tensorflow/stream_executor/cuda/cudart_stub.cc:29] Ignore above cudart dlerror if you do not have a GPU set up on your machine.\n"
     ]
    }
   ],
   "source": [
    "import uuid\n",
    "import numpy as np\n",
    "import logging\n",
    "import os\n",
    "import tensorflow as tf\n",
    "import pandas as pd\n",
    "import kfp\n",
    "import google.auth\n",
    "import explainable_ai_sdk\n",
    "\n",
    "from google.cloud import aiplatform\n",
    "from google.cloud import bigquery\n",
    "from google.cloud import bigquery_storage\n",
    "from google.cloud.aiplatform import datasets\n",
    "\n",
    "from google_cloud_pipeline_components import aiplatform as gcc_aip\n",
    "\n",
    "from google.cloud.aiplatform_v1beta1 import (\n",
    "    FeaturestoreOnlineServingServiceClient, FeaturestoreServiceClient)\n",
    "from google.cloud.aiplatform_v1beta1.types import FeatureSelector, IdMatcher\n",
    "from google.cloud.aiplatform_v1beta1.types import \\\n",
    "    entity_type as entity_type_pb2\n",
    "from google.cloud.aiplatform_v1beta1.types import feature as feature_pb2\n",
    "from google.cloud.aiplatform_v1beta1.types import \\\n",
    "    featurestore as featurestore_pb2\n",
    "from google.cloud.aiplatform_v1beta1.types import \\\n",
    "    featurestore_monitoring as featurestore_monitoring_pb2\n",
    "from google.cloud.aiplatform_v1beta1.types import \\\n",
    "    featurestore_online_service as featurestore_online_service_pb2\n",
    "from google.cloud.aiplatform_v1beta1.types import \\\n",
    "    featurestore_service as featurestore_service_pb2\n",
    "from google.cloud.aiplatform_v1beta1.types import io as io_pb2\n",
    "from google.protobuf.duration_pb2 import Duration\n",
    "\n",
    "from kfp.v2 import compiler\n",
    "from kfp.v2.dsl import component\n",
    "from kfp.v2.google import experimental\n",
    "from kfp.v2.google.client import AIPlatformClient\n",
    "from kfp.v2.dsl import ClassificationMetrics, Metrics, Output, Input, component, Model, Dataset, Artifact, Condition\n",
    "\n",
    "from explainable_ai_sdk.metadata.tf.v2 import SavedModelMetadataBuilder"
   ]
  },
  {
   "cell_type": "code",
   "execution_count": 12,
   "id": "2237d37e-fa0f-4447-bdcb-e3cc24f234f6",
   "metadata": {},
   "outputs": [],
   "source": [
    "API_ENDPOINT = \"us-central1-aiplatform.googleapis.com\""
   ]
  },
  {
   "cell_type": "markdown",
   "id": "ea2c136a-8c5d-4502-8579-3ae7a1a9aa77",
   "metadata": {},
   "source": [
    "---\n",
    "---\n",
    "## 2. Feature Store Creation\n",
    "---\n",
    "### 2.1 Prepare training dataset\n",
    "1. Download sample dataset from [Kaggle](https://www.kaggle.com/ashishkumarsingh123/telecom-churn-dataset).\n",
    "2. [Create a new dataset](https://cloud.google.com/bigquery/docs/samples/bigquery-load-table-gcs-csv) in your GCP BQ instance, and upload the downloaded data to BQ as a new table. e.g.: bq://sample-project.ml_sample.telecom_churn."
   ]
  },
  {
   "cell_type": "markdown",
   "id": "4c43735e-183d-400e-825b-74b13fd352ae",
   "metadata": {},
   "source": [
    "---\n",
    "### 2.2 Create Feature store\n",
    "\n",
    "Now it's time to create a [feature store](https://cloud.google.com/vertex-ai/docs/featurestore). The method to create a featurestore returns a long-running operation (LRO). An LRO starts an asynchronous job. LROs are returned for other API methods too, such as updating or deleting a featurestore. Calling create_lro.result() waits for the LRO to complete."
   ]
  },
  {
   "cell_type": "code",
   "execution_count": 13,
   "id": "8deb2a9c-e744-4b7a-aa15-7cb29d8d7685",
   "metadata": {},
   "outputs": [],
   "source": [
    "# Create admin_client for CRUD and data_client for reading feature values.\n",
    "admin_client = FeaturestoreServiceClient(client_options={\"api_endpoint\": API_ENDPOINT})\n",
    "data_client = FeaturestoreOnlineServingServiceClient(\n",
    "    client_options={\"api_endpoint\": API_ENDPOINT} )"
   ]
  },
  {
   "cell_type": "code",
   "execution_count": 14,
   "id": "1b71941e-af36-405b-9190-7f6709059840",
   "metadata": {},
   "outputs": [
    {
     "name": "stdout",
     "output_type": "stream",
     "text": [
      "name: \"projects/429963084013/locations/us-central1/featurestores/telecom_churn_20220815081456\"\n",
      "\n"
     ]
    }
   ],
   "source": [
    "# Represents featurestore resource path.\n",
    "BASE_RESOURCE_PATH = admin_client.common_location_path(PROJECT_ID, REGION)\n",
    "FEATURESTORE_ID_TO_CREATE = \"telecom_churn_{timestamp}\".format(timestamp=TIMESTAMP)\n",
    "\n",
    "create_lro = admin_client.create_featurestore(\n",
    "    featurestore_service_pb2.CreateFeaturestoreRequest(\n",
    "        parent=BASE_RESOURCE_PATH,\n",
    "        featurestore_id=FEATURESTORE_ID_TO_CREATE,\n",
    "        featurestore=featurestore_pb2.Featurestore(\n",
    "            #display_name=\"Featurestore for telco churn prediction\",\n",
    "            online_serving_config=featurestore_pb2.Featurestore.OnlineServingConfig(\n",
    "                fixed_node_count=1 # we do have the option to auto-scale. \n",
    "            ),\n",
    "        ),\n",
    "    )\n",
    ")\n",
    "# Wait for LRO to finish and get the LRO result.\n",
    "print(create_lro.result())"
   ]
  },
  {
   "cell_type": "markdown",
   "id": "fc22f528-fb81-4883-9beb-87a033f33e49",
   "metadata": {},
   "source": [
    "You can use GetFeaturestore or ListFeaturestores to check if the Featurestore was successfully created. The following example gets the details of the Featurestore. You can also navigate to the [Google Cloud Console](https://console.cloud.google.com/vertex-ai/features) to see if the feature store was created successfully."
   ]
  },
  {
   "cell_type": "code",
   "execution_count": 17,
   "id": "7c60e13e-11cb-42bb-a531-53abe4864366",
   "metadata": {},
   "outputs": [
    {
     "data": {
      "text/plain": [
       "name: \"projects/429963084013/locations/us-central1/featurestores/telecom_churn_20220815081456\"\n",
       "create_time {\n",
       "  seconds: 1660551437\n",
       "  nanos: 536694000\n",
       "}\n",
       "update_time {\n",
       "  seconds: 1660551437\n",
       "  nanos: 609398000\n",
       "}\n",
       "etag: \"AMEw9yNyjT2BvcMbrIgviTtYMkan7D-8C8YLG964v640LQmPwK5figr2DGEooZm62DdV\"\n",
       "online_serving_config {\n",
       "  fixed_node_count: 1\n",
       "}\n",
       "state: STABLE"
      ]
     },
     "execution_count": 17,
     "metadata": {},
     "output_type": "execute_result"
    }
   ],
   "source": [
    "admin_client.get_featurestore(\n",
    "    name=admin_client.featurestore_path(PROJECT_ID, REGION, FEATURESTORE_ID_TO_CREATE)\n",
    ")"
   ]
  },
  {
   "cell_type": "markdown",
   "id": "12baf4d1-a641-4c9c-bfb0-2f008661f011",
   "metadata": {},
   "source": [
    "---\n",
    "### 2.3 Create Entity Type\n",
    "You can specify a monitoring config which will by default be inherited by all Features under this EntityType."
   ]
  },
  {
   "cell_type": "code",
   "execution_count": 18,
   "id": "690c9231-f430-48c8-ba41-bc9a72a4d21c",
   "metadata": {},
   "outputs": [
    {
     "name": "stdout",
     "output_type": "stream",
     "text": [
      "name: \"projects/429963084013/locations/us-central1/featurestores/telecom_churn_20220815081456/entityTypes/users\"\n",
      "\n"
     ]
    }
   ],
   "source": [
    "# Create users entity type with monitoring enabled.\n",
    "# All Features belonging to this EntityType will by default inherit the monitoring config.\n",
    "users_entity_type_lro = admin_client.create_entity_type(\n",
    "    featurestore_service_pb2.CreateEntityTypeRequest(\n",
    "        parent=admin_client.featurestore_path(PROJECT_ID, REGION, FEATURESTORE_ID_TO_CREATE),\n",
    "        entity_type_id=\"users\",\n",
    "        entity_type=entity_type_pb2.EntityType(\n",
    "            description=\"Users entity\",\n",
    "            monitoring_config=featurestore_monitoring_pb2.FeaturestoreMonitoringConfig(\n",
    "                snapshot_analysis=featurestore_monitoring_pb2.FeaturestoreMonitoringConfig.SnapshotAnalysis(\n",
    "                    monitoring_interval=Duration(seconds=86400),  # 1 day\n",
    "                ),\n",
    "            ),\n",
    "        ),\n",
    "    )\n",
    ")\n",
    "\n",
    "# Similarly, wait for EntityType creation operation.\n",
    "print(users_entity_type_lro.result())"
   ]
  },
  {
   "cell_type": "code",
   "execution_count": null,
   "id": "cff8e8f9-95a1-4d12-a2aa-9f3a9402341c",
   "metadata": {},
   "outputs": [
    {
     "data": {
      "text/plain": [
       "features {\n",
       "  name: \"projects/429963084013/locations/us-central1/featurestores/telecom_churn_20220815081456/entityTypes/users/features/mobile_number\"\n",
       "}\n",
       "features {\n",
       "  name: \"projects/429963084013/locations/us-central1/featurestores/telecom_churn_20220815081456/entityTypes/users/features/arpu_m1\"\n",
       "}\n",
       "features {\n",
       "  name: \"projects/429963084013/locations/us-central1/featurestores/telecom_churn_20220815081456/entityTypes/users/features/arpu_m2\"\n",
       "}\n",
       "features {\n",
       "  name: \"projects/429963084013/locations/us-central1/featurestores/telecom_churn_20220815081456/entityTypes/users/features/arpu_m3\"\n",
       "}\n",
       "features {\n",
       "  name: \"projects/429963084013/locations/us-central1/featurestores/telecom_churn_20220815081456/entityTypes/users/features/arpu_m4\"\n",
       "}\n",
       "features {\n",
       "  name: \"projects/429963084013/locations/us-central1/featurestores/telecom_churn_20220815081456/entityTypes/users/features/mou_m1\"\n",
       "}\n",
       "features {\n",
       "  name: \"projects/429963084013/locations/us-central1/featurestores/telecom_churn_20220815081456/entityTypes/users/features/mou_m2\"\n",
       "}\n",
       "features {\n",
       "  name: \"projects/429963084013/locations/us-central1/featurestores/telecom_churn_20220815081456/entityTypes/users/features/mou_m3\"\n",
       "}\n",
       "features {\n",
       "  name: \"projects/429963084013/locations/us-central1/featurestores/telecom_churn_20220815081456/entityTypes/users/features/is_churn\"\n",
       "}"
      ]
     },
     "execution_count": 19,
     "metadata": {},
     "output_type": "execute_result"
    }
   ],
   "source": [
    "# Create features for the 'users' entity.\n",
    "admin_client.batch_create_features(\n",
    "    parent=admin_client.entity_type_path(PROJECT_ID, REGION, FEATURESTORE_ID_TO_CREATE, \"users\"),\n",
    "    requests=[\n",
    "        featurestore_service_pb2.CreateFeatureRequest(\n",
    "            feature=feature_pb2.Feature(\n",
    "                value_type=feature_pb2.Feature.ValueType.INT64,\n",
    "                description=\"mobile_number\",\n",
    "                monitoring_config=featurestore_monitoring_pb2.FeaturestoreMonitoringConfig(\n",
    "                    snapshot_analysis=featurestore_monitoring_pb2.FeaturestoreMonitoringConfig.SnapshotAnalysis(\n",
    "                        disabled=False,\n",
    "                    ),\n",
    "                ),\n",
    "            ),\n",
    "            feature_id=\"mobile_number\",\n",
    "        ),\n",
    "        featurestore_service_pb2.CreateFeatureRequest(\n",
    "            feature=feature_pb2.Feature(\n",
    "                value_type=feature_pb2.Feature.ValueType.DOUBLE,\n",
    "                description=\"average revenue per user on first month\",\n",
    "                monitoring_config=featurestore_monitoring_pb2.FeaturestoreMonitoringConfig(\n",
    "                    snapshot_analysis=featurestore_monitoring_pb2.FeaturestoreMonitoringConfig.SnapshotAnalysis(\n",
    "                        disabled=False,\n",
    "                    ),\n",
    "                ),\n",
    "            ),\n",
    "            feature_id=\"arpu_m1\",\n",
    "        ),\n",
    "        featurestore_service_pb2.CreateFeatureRequest(\n",
    "            feature=feature_pb2.Feature(\n",
    "                value_type=feature_pb2.Feature.ValueType.DOUBLE,\n",
    "                description=\"average revenue per user on second month\",\n",
    "                monitoring_config=featurestore_monitoring_pb2.FeaturestoreMonitoringConfig(\n",
    "                    snapshot_analysis=featurestore_monitoring_pb2.FeaturestoreMonitoringConfig.SnapshotAnalysis(\n",
    "                        disabled=False,\n",
    "                    ),\n",
    "                ),\n",
    "            ),\n",
    "            feature_id=\"arpu_m2\",\n",
    "        ),\n",
    "        featurestore_service_pb2.CreateFeatureRequest(\n",
    "            feature=feature_pb2.Feature(\n",
    "                value_type=feature_pb2.Feature.ValueType.DOUBLE,\n",
    "                description=\"average revenue per user on third month\",\n",
    "                monitoring_config=featurestore_monitoring_pb2.FeaturestoreMonitoringConfig(\n",
    "                    snapshot_analysis=featurestore_monitoring_pb2.FeaturestoreMonitoringConfig.SnapshotAnalysis(\n",
    "                        disabled=False,\n",
    "                    ),\n",
    "                ),\n",
    "            ),\n",
    "            feature_id=\"arpu_m3\",\n",
    "        ),\n",
    "        featurestore_service_pb2.CreateFeatureRequest(\n",
    "            feature=feature_pb2.Feature(\n",
    "                value_type=feature_pb2.Feature.ValueType.DOUBLE,\n",
    "                description=\"average revenue per user on forth month\",\n",
    "                monitoring_config=featurestore_monitoring_pb2.FeaturestoreMonitoringConfig(\n",
    "                    snapshot_analysis=featurestore_monitoring_pb2.FeaturestoreMonitoringConfig.SnapshotAnalysis(\n",
    "                        disabled=False,\n",
    "                    ),\n",
    "                ),\n",
    "            ),\n",
    "            feature_id=\"arpu_m4\",\n",
    "        ),\n",
    "        featurestore_service_pb2.CreateFeatureRequest(\n",
    "            feature=feature_pb2.Feature(\n",
    "                value_type=feature_pb2.Feature.ValueType.DOUBLE,\n",
    "                description=\"Minutes of usage - voice calls on first month\",\n",
    "                monitoring_config=featurestore_monitoring_pb2.FeaturestoreMonitoringConfig(\n",
    "                    snapshot_analysis=featurestore_monitoring_pb2.FeaturestoreMonitoringConfig.SnapshotAnalysis(\n",
    "                        disabled=False,\n",
    "                    ),\n",
    "                ),\n",
    "            ),\n",
    "            feature_id=\"mou_m1\",\n",
    "        ),\n",
    "        featurestore_service_pb2.CreateFeatureRequest(\n",
    "            feature=feature_pb2.Feature(\n",
    "                value_type=feature_pb2.Feature.ValueType.DOUBLE,\n",
    "                description=\"Minutes of usage - voice calls month\",\n",
    "                monitoring_config=featurestore_monitoring_pb2.FeaturestoreMonitoringConfig(\n",
    "                    snapshot_analysis=featurestore_monitoring_pb2.FeaturestoreMonitoringConfig.SnapshotAnalysis(\n",
    "                        disabled=False,\n",
    "                    ),\n",
    "                ),\n",
    "            ),\n",
    "            feature_id=\"mou_m2\",\n",
    "        ),\n",
    "        featurestore_service_pb2.CreateFeatureRequest(\n",
    "            feature=feature_pb2.Feature(\n",
    "                value_type=feature_pb2.Feature.ValueType.DOUBLE,\n",
    "                description=\"Minutes of usage - voice calls on third month\",\n",
    "                monitoring_config=featurestore_monitoring_pb2.FeaturestoreMonitoringConfig(\n",
    "                    snapshot_analysis=featurestore_monitoring_pb2.FeaturestoreMonitoringConfig.SnapshotAnalysis(\n",
    "                        disabled=False,\n",
    "                    ),\n",
    "                ),\n",
    "            ),\n",
    "            feature_id=\"mou_m3\",\n",
    "        ),\n",
    "        featurestore_service_pb2.CreateFeatureRequest(\n",
    "            feature=feature_pb2.Feature(\n",
    "                value_type=feature_pb2.Feature.ValueType.BOOL,\n",
    "                description=\"if the user churn on the forth month. Judged by the spend > 0 on forth month\",\n",
    "                monitoring_config=featurestore_monitoring_pb2.FeaturestoreMonitoringConfig(\n",
    "                    snapshot_analysis=featurestore_monitoring_pb2.FeaturestoreMonitoringConfig.SnapshotAnalysis(\n",
    "                        disabled=False,\n",
    "                    ),\n",
    "                ),\n",
    "            ),\n",
    "            feature_id=\"is_churn\",\n",
    "        ),\n",
    "    ],\n",
    ").result()"
   ]
  },
  {
   "cell_type": "markdown",
   "id": "79b606f8-db1a-4383-a9a3-c1815da5286d",
   "metadata": {},
   "source": [
    "### 2.3.1 Search created features\n",
    "While the [ListFeatures](https://cloud.google.com/vertex-ai/docs/reference/rpc/google.cloud.aiplatform.v1beta1#google.cloud.aiplatform.v1beta1.FeaturestoreService.ListFeatures) method allows you to easily view all features of a single entity type, the [SearchFeatures](https://cloud.google.com/vertex-ai/docs/reference/rpc/google.cloud.aiplatform.v1beta1#google.cloud.aiplatform.v1beta1.FeaturestoreService.SearchFeatures) method searches across all featurestores and entity types in a given location (such as us-central1). This can help you discover features that were created by someone else.\n",
    "\n",
    "You can query based on feature properties including feature ID, entity type ID, and feature description. You can also limit results by filtering on a specific featurestore, feature value type, and/or labels."
   ]
  },
  {
   "cell_type": "code",
   "execution_count": 16,
   "id": "faaf8ccd-e822-486b-b57b-bbaeef746a47",
   "metadata": {},
   "outputs": [
    {
     "data": {
      "text/plain": [
       "[]"
      ]
     },
     "execution_count": 16,
     "metadata": {},
     "output_type": "execute_result"
    }
   ],
   "source": [
    "# Filter on feature value type and keywords.\n",
    "list(\n",
    "    admin_client.search_features(\n",
    "        featurestore_service_pb2.SearchFeaturesRequest(\n",
    "            location=BASE_RESOURCE_PATH, query=\"feature_id:is_ AND value_type=STRING\"\n",
    "        )\n",
    "    )\n",
    ")"
   ]
  },
  {
   "cell_type": "markdown",
   "id": "d41e2788-6b98-4854-8bb6-c263726f64e7",
   "metadata": {},
   "source": [
    "---\n",
    "### 2.4 Select the data that we want to ingest into our feature store\n",
    "You can specify a monitoring config which will by default be inherited by all Features under this EntityType."
   ]
  },
  {
   "cell_type": "code",
   "execution_count": 28,
   "id": "a0a42591-2b2c-4cef-a1fb-9745692cf5df",
   "metadata": {},
   "outputs": [
    {
     "data": {
      "text/plain": [
       "'bq://erwinh-demo-joonix.ml_sample.import_features'"
      ]
     },
     "execution_count": 28,
     "metadata": {},
     "output_type": "execute_result"
    }
   ],
   "source": [
    "BQ_RAW_DATA = \"bq://erwinh-demo-joonix.ml_sample.telecom_churn\" # --> Change this to the table that you created earlier. \n",
    "FEATURE_DESTINATION = \"bq://erwinh-demo-joonix.ml_sample.import_features\" # --> Change this. Set it to something like bq://<your-project>.churn.import_features\n",
    "\n",
    "FEATURE_DESTINATION"
   ]
  },
  {
   "cell_type": "code",
   "execution_count": 29,
   "id": "c15a6a5e-c84f-4db6-a774-b330e1889b97",
   "metadata": {},
   "outputs": [
    {
     "data": {
      "text/plain": [
       "<google.cloud.bigquery.table.RowIterator at 0x7fe85b722590>"
      ]
     },
     "execution_count": 29,
     "metadata": {},
     "output_type": "execute_result"
    }
   ],
   "source": [
    "client = bigquery.Client(PROJECT_ID)\n",
    "\n",
    "job_config = bigquery.QueryJobConfig(destination=FEATURE_DESTINATION.split('/')[-1])\n",
    "\n",
    "sql = \"\"\"\n",
    "    SELECT cast(mobile_number as string) mobile_number,arpu_6,arpu_7,arpu_8,arpu_9<=0 as is_churn,onnet_mou_6,onnet_mou_7,onnet_mou_8,CURRENT_TIMESTAMP() as update_time\n",
    "    FROM `{}`;\n",
    "\"\"\".format(BQ_RAW_DATA.split('/')[-1])\n",
    "\n",
    "query_job = client.query(sql, job_config=job_config)  # Make an API request.\n",
    "\n",
    "query_job.result()  # Wait for the job to complete."
   ]
  },
  {
   "cell_type": "markdown",
   "id": "18b5e8fb-d973-43ba-b850-d5050fc5e119",
   "metadata": {},
   "source": [
    "---\n",
    "### 2.5 Ingest data into the feature store"
   ]
  },
  {
   "cell_type": "code",
   "execution_count": 30,
   "id": "a4c144fb-70df-481c-88cf-74dc17ed908d",
   "metadata": {},
   "outputs": [],
   "source": [
    "# Create admin_client for CRUD and data_client for reading feature values.\n",
    "admin_client = FeaturestoreServiceClient(client_options={\"api_endpoint\": API_ENDPOINT})\n",
    "data_client = FeaturestoreOnlineServingServiceClient(\n",
    "    client_options={\"api_endpoint\": API_ENDPOINT}\n",
    ")\n",
    "\n",
    "BASE_RESOURCE_PATH = admin_client.common_location_path(PROJECT_ID, REGION)"
   ]
  },
  {
   "cell_type": "code",
   "execution_count": 31,
   "id": "40fa682c-fd13-4688-ac46-da32026db82b",
   "metadata": {},
   "outputs": [
    {
     "data": {
      "text/plain": [
       "imported_entity_count: 99999\n",
       "imported_feature_value_count: 686819"
      ]
     },
     "execution_count": 31,
     "metadata": {},
     "output_type": "execute_result"
    }
   ],
   "source": [
    "# Represents featurestore resource path.\n",
    "import_users_request = featurestore_service_pb2.ImportFeatureValuesRequest(\n",
    "    entity_type=admin_client.entity_type_path(\n",
    "        PROJECT_ID, REGION, FEATURESTORE_ID_TO_CREATE, \"users\"\n",
    "    ),\n",
    "    bigquery_source=io_pb2.BigQuerySource(\n",
    "        # Source\n",
    "        input_uri=FEATURE_DESTINATION\n",
    "    ),\n",
    "    entity_id_field=\"mobile_number\",\n",
    "    feature_specs=[\n",
    "        # Features\n",
    "        featurestore_service_pb2.ImportFeatureValuesRequest.FeatureSpec(id=\"arpu_m1\", source_field=\"arpu_6\"),\n",
    "        featurestore_service_pb2.ImportFeatureValuesRequest.FeatureSpec(id=\"arpu_m2\", source_field=\"arpu_7\"),\n",
    "        featurestore_service_pb2.ImportFeatureValuesRequest.FeatureSpec(id=\"arpu_m3\", source_field=\"arpu_8\"),\n",
    "        featurestore_service_pb2.ImportFeatureValuesRequest.FeatureSpec(id=\"is_churn\", source_field=\"is_churn\"),\n",
    "        featurestore_service_pb2.ImportFeatureValuesRequest.FeatureSpec(id=\"mou_m1\", source_field=\"onnet_mou_6\"),\n",
    "        featurestore_service_pb2.ImportFeatureValuesRequest.FeatureSpec(id=\"mou_m2\", source_field=\"onnet_mou_7\"),\n",
    "        featurestore_service_pb2.ImportFeatureValuesRequest.FeatureSpec(id=\"mou_m3\", source_field=\"onnet_mou_8\"),\n",
    "    ],\n",
    "    feature_time_field=\"update_time\",\n",
    "    worker_count=10,\n",
    ")\n",
    "ingestion_lro = admin_client.import_feature_values(import_users_request)\n",
    "ingestion_lro.result()"
   ]
  },
  {
   "cell_type": "code",
   "execution_count": null,
   "id": "65c09c9a-4563-4ce6-b73c-55b52300c7c5",
   "metadata": {},
   "outputs": [],
   "source": [
    "# Search for all features across all featurestores.\n",
    "list(admin_client.search_features(location=BASE_RESOURCE_PATH))"
   ]
  },
  {
   "cell_type": "code",
   "execution_count": 33,
   "id": "fe4e3c20-2201-40c2-8ea3-76be9c637b71",
   "metadata": {},
   "outputs": [],
   "source": [
    "bqclient = bigquery.Client()\n",
    "bqstorageclient = bigquery_storage.BigQueryReadClient()\n",
    "query_string = \"\"\"\n",
    "SELECT\n",
    "    mobile_number\n",
    "FROM `{}`\n",
    "\"\"\".format(BQ_RAW_DATA.split('/')[-1])\n",
    "\n",
    "user_df = (\n",
    "    bqclient.query(query_string)\n",
    "    .result()\n",
    "    .to_dataframe(bqstorage_client=bqstorageclient)\n",
    ")\n",
    "\n",
    "X_train = user_df['mobile_number']"
   ]
  },
  {
   "cell_type": "markdown",
   "id": "49c49967-e256-4578-ab37-d306cb0a2483",
   "metadata": {},
   "source": [
    "Please update `TRAINING_DATA_TABLE`. "
   ]
  },
  {
   "cell_type": "code",
   "execution_count": 37,
   "id": "a20fc117-22b7-4a7a-8499-56d58555ea40",
   "metadata": {},
   "outputs": [],
   "source": [
    "TRAINING_DATA_TABLE = 'erwinh-demo-joonix.ml_sample.training_data' # --> Please update! \n",
    "FEATURESTORE_ID = '' # fill in or leave empty if you just created the feature store\n",
    "if FEATURESTORE_ID == '':\n",
    "    FEATURESTORE_ID = FEATURESTORE_ID_TO_CREATE\n",
    "TRAINING_DATA_SELECTOR_LOC = BUCKET_NAME + '/dataset/query_instance_2.csv'"
   ]
  },
  {
   "cell_type": "code",
   "execution_count": 38,
   "id": "54e596ba-257c-47fb-a8c5-9d8aaa59cd68",
   "metadata": {},
   "outputs": [
    {
     "data": {
      "text/plain": [
       "0    7001625959\n",
       "1    7001204172\n",
       "2    7001864400\n",
       "3    7001419799\n",
       "4    7001654241\n",
       "Name: mobile_number, dtype: int64"
      ]
     },
     "execution_count": 38,
     "metadata": {},
     "output_type": "execute_result"
    }
   ],
   "source": [
    "X_train.head()"
   ]
  },
  {
   "cell_type": "code",
   "execution_count": null,
   "id": "6a0340eb-e15b-4e10-89d3-e4c8a05fceee",
   "metadata": {},
   "outputs": [],
   "source": [
    "now = datetime.now()\n",
    "current_time = now.strftime(\"%Y-%m-%dT%H:%M:%SZ\")\n",
    "res = pd.DataFrame()\n",
    "res['users']  = X_train\n",
    "res['timestamp'] = current_time\n",
    "res.to_csv(TRAINING_DATA_SELECTOR_LOC, index=False)\n",
    "admin_client = FeaturestoreServiceClient(client_options={\"api_endpoint\": API_ENDPOINT})\n",
    "batch_serving_request = featurestore_service_pb2.BatchReadFeatureValuesRequest(\n",
    "    # featurestore info\n",
    "    featurestore=admin_client.featurestore_path(PROJECT_ID, REGION, FEATURESTORE_ID),\n",
    "    # URL for the label data, i.e., Table 1.\n",
    "    csv_read_instances=io_pb2.CsvSource(\n",
    "        gcs_source=io_pb2.GcsSource(uris=[TRAINING_DATA_SELECTOR_LOC])\n",
    "    ),\n",
    "    destination=featurestore_service_pb2.FeatureValueDestination(\n",
    "        bigquery_destination=io_pb2.BigQueryDestination(\n",
    "            # Output to BigQuery table created earlier\n",
    "            output_uri='bq://'+TRAINING_DATA_TABLE\n",
    "        )\n",
    "    ),\n",
    "    entity_type_specs=[\n",
    "        featurestore_service_pb2.BatchReadFeatureValuesRequest.EntityTypeSpec(\n",
    "            entity_type_id=\"users\",\n",
    "            feature_selector=FeatureSelector(\n",
    "                id_matcher=IdMatcher(\n",
    "                    ids=[\n",
    "                        # features, use \"*\" if you want to select all features within this entity type\n",
    "                        \"mou_m1\",\n",
    "                        \"mou_m2\",\n",
    "                        \"mou_m3\",\n",
    "                        \"arpu_m1\",\n",
    "                        \"arpu_m2\",\n",
    "                        \"arpu_m3\",\n",
    "                        \"is_churn\"\n",
    "                    ]\n",
    "                )\n",
    "            ),\n",
    "        ),\n",
    "    ],\n",
    ")\n",
    "batch_serving_lro = admin_client.batch_read_feature_values(batch_serving_request)\n",
    "batch_serving_lro.result()"
   ]
  },
  {
   "cell_type": "markdown",
   "id": "98ad458f-592f-45a0-be02-466392c2b746",
   "metadata": {},
   "source": [
    "## Cleaning up\n",
    "\n",
    "To clean up all Google Cloud resources used in this project, you can [delete the Google Cloud\n",
    "project](https://cloud.google.com/resource-manager/docs/creating-managing-projects#shutting_down_projects) you used for the tutorial.\n",
    "\n",
    "Otherwise, you can delete the individual resources you created in this tutorial:\n",
    "- Delete Cloud Storage objects that were created.  Uncomment and run the command in the cell below **only if you are not using the `PIPELINE_ROOT` path for any other purpose**.\n",
    "- Delete your deployed model: first, undeploy it from its *endpoint*, then delete the model and endpoint."
   ]
  },
  {
   "cell_type": "code",
   "execution_count": null,
   "id": "ab1286d6-3783-4417-8d05-fb3e3d276f56",
   "metadata": {},
   "outputs": [
    {
     "data": {
      "text/plain": []
     },
     "execution_count": 16,
     "metadata": {},
     "output_type": "execute_result"
    }
   ],
   "source": [
    "admin_client.delete_featurestore(\n",
    "    request=featurestore_service_pb2.DeleteFeaturestoreRequest(\n",
    "        name=admin_client.featurestore_path(PROJECT_ID, REGION, FEATURESTORE_ID),\n",
    "        force=True,\n",
    "    )\n",
    ").result()"
   ]
  }
 ],
 "metadata": {
  "environment": {
   "kernel": "python3",
   "name": "common-cpu.m95",
   "type": "gcloud",
   "uri": "gcr.io/deeplearning-platform-release/base-cpu:m95"
  },
  "kernelspec": {
   "display_name": "Python 3",
   "language": "python",
   "name": "python3"
  },
  "language_info": {
   "codemirror_mode": {
    "name": "ipython",
    "version": 3
   },
   "file_extension": ".py",
   "mimetype": "text/x-python",
   "name": "python",
   "nbconvert_exporter": "python",
   "pygments_lexer": "ipython3",
   "version": "3.7.12"
  }
 },
 "nbformat": 4,
 "nbformat_minor": 5
}
